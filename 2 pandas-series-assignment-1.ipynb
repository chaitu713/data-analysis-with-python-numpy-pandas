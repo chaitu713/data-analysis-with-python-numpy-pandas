{
  "cells": [
    {
      "cell_type": "markdown",
      "metadata": {
        "id": "view-in-github",
        "colab_type": "text"
      },
      "source": [
        "<a href=\"https://colab.research.google.com/github/chaitu713/data-analysis-with-python-numpy-pandas/blob/master/2%20pandas-series-assignment-1.ipynb\" target=\"_parent\"><img src=\"https://colab.research.google.com/assets/colab-badge.svg\" alt=\"Open In Colab\"/></a>"
      ]
    },
    {
      "cell_type": "code",
      "execution_count": 1,
      "id": "b2d1c5b7",
      "metadata": {
        "id": "b2d1c5b7"
      },
      "outputs": [],
      "source": [
        "# import libraries needed\n",
        "import numpy as np\n",
        "import pandas as pd"
      ]
    },
    {
      "cell_type": "markdown",
      "id": "31a24d50",
      "metadata": {
        "id": "31a24d50"
      },
      "source": [
        "# Assignment 1: Series Basics\n",
        "\n",
        "The code has been previded to create an array, `oil_array` from a dataframe column. \n",
        "\n",
        "* Convert `oil_array` into a Pandas Series, called `oil_series`. Give it a name!\n",
        "* Return the name, dtype, size, and index of `oil_series`.\n",
        "\n",
        "Take the mean of the values array. \n",
        "\n",
        "Then, convert the series to integer datatype and recalculate the mean. \n"
      ]
    },
    {
      "cell_type": "code",
      "execution_count": 2,
      "id": "df36e3d6",
      "metadata": {
        "colab": {
          "base_uri": "https://localhost:8080/"
        },
        "id": "df36e3d6",
        "outputId": "9db77065-2baa-4a52-e564-21b3c72b5b24"
      },
      "outputs": [
        {
          "output_type": "execute_result",
          "data": {
            "text/plain": [
              "array([52.22, 51.44, 51.98, 52.01, 52.82, 54.01, 53.8 , 53.75, 52.36,\n",
              "       53.26, 53.77, 53.98, 51.95, 50.82, 52.19, 53.01, 52.36, 52.45,\n",
              "       51.12, 51.39, 52.33, 52.77, 52.38, 52.14, 53.24, 53.18, 52.63,\n",
              "       52.75, 53.9 , 53.55, 53.81, 53.01, 52.19, 52.37, 52.99, 53.84,\n",
              "       52.96, 53.21, 53.11, 53.41, 53.41, 54.02, 53.61, 54.48, 53.99,\n",
              "       54.04, 54.  , 53.82, 52.63, 53.33, 53.19, 52.68, 49.83, 48.75,\n",
              "       48.05, 47.95, 47.24, 48.34, 48.3 , 48.34, 47.79, 47.02, 47.29,\n",
              "       47.  , 47.3 , 47.02, 48.36, 49.47, 50.3 , 50.54, 50.25, 50.99,\n",
              "       51.14, 51.69, 52.25, 53.06, 53.38, 53.12, 53.19, 52.62, 52.46,\n",
              "       50.49, 50.26, 49.64, 48.9 , 49.22, 49.22, 48.96, 49.31, 48.83,\n",
              "       47.65, 47.79, 45.55, 46.23, 46.46, 45.84, 47.28, 47.81, 47.83,\n",
              "       48.86])"
            ]
          },
          "metadata": {},
          "execution_count": 2
        }
      ],
      "source": [
        "# create a DataFrame from the oil file, drop missing values\n",
        "oil = pd.read_csv(\"/content/oil.csv\").dropna()\n",
        "\n",
        "# Grab 100 rows of oil prices\n",
        "oil_array = np.array(oil[\"dcoilwtico\"].iloc[1000:1100])\n",
        "\n",
        "oil_array"
      ]
    },
    {
      "cell_type": "code",
      "execution_count": 7,
      "id": "fc70abd0",
      "metadata": {
        "colab": {
          "base_uri": "https://localhost:8080/"
        },
        "id": "fc70abd0",
        "outputId": "313e26a2-bf0f-46eb-fb82-8b0936a242e8"
      },
      "outputs": [
        {
          "output_type": "execute_result",
          "data": {
            "text/plain": [
              "0     52.22\n",
              "1     51.44\n",
              "2     51.98\n",
              "3     52.01\n",
              "4     52.82\n",
              "      ...  \n",
              "95    45.84\n",
              "96    47.28\n",
              "97    47.81\n",
              "98    47.83\n",
              "99    48.86\n",
              "Name: Oil Series, Length: 100, dtype: float64"
            ]
          },
          "metadata": {},
          "execution_count": 7
        }
      ],
      "source": [
        "oil_series = pd.Series(oil_array, name = 'Oil Series')\n",
        "\n",
        "oil_series"
      ]
    },
    {
      "cell_type": "code",
      "execution_count": 8,
      "id": "54190e1a",
      "metadata": {
        "colab": {
          "base_uri": "https://localhost:8080/",
          "height": 35
        },
        "id": "54190e1a",
        "outputId": "271bd90f-069c-4227-cf28-6e7f5679f7ba"
      },
      "outputs": [
        {
          "output_type": "execute_result",
          "data": {
            "text/plain": [
              "'Oil Series'"
            ],
            "application/vnd.google.colaboratory.intrinsic+json": {
              "type": "string"
            }
          },
          "metadata": {},
          "execution_count": 8
        }
      ],
      "source": [
        "oil_series.name"
      ]
    },
    {
      "cell_type": "code",
      "execution_count": 9,
      "id": "7bf43cdc",
      "metadata": {
        "colab": {
          "base_uri": "https://localhost:8080/"
        },
        "id": "7bf43cdc",
        "outputId": "0fe90dcc-3481-483c-a3cc-fcce7cc26a2c"
      },
      "outputs": [
        {
          "output_type": "execute_result",
          "data": {
            "text/plain": [
              "dtype('float64')"
            ]
          },
          "metadata": {},
          "execution_count": 9
        }
      ],
      "source": [
        "oil_series.dtype"
      ]
    },
    {
      "cell_type": "code",
      "execution_count": 10,
      "id": "96a0fb2a",
      "metadata": {
        "colab": {
          "base_uri": "https://localhost:8080/"
        },
        "id": "96a0fb2a",
        "outputId": "7dfae528-5c52-4547-fb28-85a280ea1c8c"
      },
      "outputs": [
        {
          "output_type": "execute_result",
          "data": {
            "text/plain": [
              "100"
            ]
          },
          "metadata": {},
          "execution_count": 10
        }
      ],
      "source": [
        "oil_series.size"
      ]
    },
    {
      "cell_type": "code",
      "source": [
        "oil_series.index"
      ],
      "metadata": {
        "colab": {
          "base_uri": "https://localhost:8080/"
        },
        "id": "WnKLWai_bi3P",
        "outputId": "993f65ed-20cb-4378-bd57-8852b15ac507"
      },
      "id": "WnKLWai_bi3P",
      "execution_count": 21,
      "outputs": [
        {
          "output_type": "execute_result",
          "data": {
            "text/plain": [
              "RangeIndex(start=0, stop=100, step=1)"
            ]
          },
          "metadata": {},
          "execution_count": 21
        }
      ]
    },
    {
      "cell_type": "code",
      "execution_count": 18,
      "id": "1b6d11ee",
      "metadata": {
        "colab": {
          "base_uri": "https://localhost:8080/"
        },
        "id": "1b6d11ee",
        "outputId": "95386646-5e85-409e-8552-bed9457345fd"
      },
      "outputs": [
        {
          "output_type": "execute_result",
          "data": {
            "text/plain": [
              "51.128299999999996"
            ]
          },
          "metadata": {},
          "execution_count": 18
        }
      ],
      "source": [
        "oil_series.values.mean() # oil_series.mean()"
      ]
    },
    {
      "cell_type": "code",
      "execution_count": 19,
      "id": "d5bc48f2",
      "metadata": {
        "colab": {
          "base_uri": "https://localhost:8080/"
        },
        "id": "d5bc48f2",
        "outputId": "94400a7f-4fbd-4a22-9fe2-9867447a7745"
      },
      "outputs": [
        {
          "output_type": "execute_result",
          "data": {
            "text/plain": [
              "0     52\n",
              "1     51\n",
              "2     51\n",
              "3     52\n",
              "4     52\n",
              "      ..\n",
              "95    45\n",
              "96    47\n",
              "97    47\n",
              "98    47\n",
              "99    48\n",
              "Name: Oil Series, Length: 100, dtype: int64"
            ]
          },
          "metadata": {},
          "execution_count": 19
        }
      ],
      "source": [
        "oil_series_int = oil_series.astype('int')\n",
        "\n",
        "oil_series_int"
      ]
    },
    {
      "cell_type": "code",
      "source": [
        "oil_series_int.values.mean() #oil_series_int.mean()"
      ],
      "metadata": {
        "colab": {
          "base_uri": "https://localhost:8080/"
        },
        "id": "zE-4cK8oa2SY",
        "outputId": "5851c128-1fb4-40ba-f8d6-9050eb327b9d"
      },
      "id": "zE-4cK8oa2SY",
      "execution_count": 20,
      "outputs": [
        {
          "output_type": "execute_result",
          "data": {
            "text/plain": [
              "50.66"
            ]
          },
          "metadata": {},
          "execution_count": 20
        }
      ]
    },
    {
      "cell_type": "markdown",
      "id": "663f2bda",
      "metadata": {
        "id": "663f2bda"
      },
      "source": [
        "# Assignment 2:  Accessing Series Data\n",
        "\n",
        "* Set the date series, which has been created below, to be the index of the oil price series created in assignment 1.\n",
        "\n",
        "\n",
        "* Then, take the mean of the first 10 and last 10 prices of the series.\n",
        "\n",
        "\n",
        "* Finally, grab all oil prices from January 1st, 2017 - January 7th, 2017 (inclusive) and set the index to the default integer index."
      ]
    },
    {
      "cell_type": "code",
      "execution_count": 23,
      "id": "cad8001a",
      "metadata": {
        "colab": {
          "base_uri": "https://localhost:8080/"
        },
        "id": "cad8001a",
        "outputId": "22510661-68d1-4daf-8c10-8989941d7f4a"
      },
      "outputs": [
        {
          "output_type": "execute_result",
          "data": {
            "text/plain": [
              "1035    2016-12-20\n",
              "1036    2016-12-21\n",
              "1037    2016-12-22\n",
              "1038    2016-12-23\n",
              "1040    2016-12-27\n",
              "           ...    \n",
              "1135    2017-05-09\n",
              "1136    2017-05-10\n",
              "1137    2017-05-11\n",
              "1138    2017-05-12\n",
              "1139    2017-05-15\n",
              "Name: date, Length: 100, dtype: object"
            ]
          },
          "metadata": {},
          "execution_count": 23
        }
      ],
      "source": [
        "# extract date column from oil DataFrame and grab first 100 rows\n",
        "\n",
        "dates = pd.Series(oil[\"date\"]).iloc[1000:1100]\n",
        "\n",
        "dates"
      ]
    },
    {
      "cell_type": "code",
      "execution_count": 34,
      "id": "49b55b99",
      "metadata": {
        "colab": {
          "base_uri": "https://localhost:8080/"
        },
        "id": "49b55b99",
        "outputId": "6d936ca9-f827-4b09-99b6-e9c4a088d491"
      },
      "outputs": [
        {
          "output_type": "execute_result",
          "data": {
            "text/plain": [
              "date\n",
              "2016-12-20    52.22\n",
              "2016-12-21    51.44\n",
              "2016-12-22    51.98\n",
              "2016-12-23    52.01\n",
              "2016-12-27    52.82\n",
              "              ...  \n",
              "2017-05-09    45.84\n",
              "2017-05-10    47.28\n",
              "2017-05-11    47.81\n",
              "2017-05-12    47.83\n",
              "2017-05-15    48.86\n",
              "Name: Oil Series, Length: 100, dtype: float64"
            ]
          },
          "metadata": {},
          "execution_count": 34
        }
      ],
      "source": [
        "oil_series = pd.Series(oil_array, index = dates, name = 'Oil Series')\n",
        "\n",
        "oil_series # oil_series.index = dates"
      ]
    },
    {
      "cell_type": "code",
      "execution_count": 35,
      "id": "801aae04",
      "metadata": {
        "colab": {
          "base_uri": "https://localhost:8080/"
        },
        "id": "801aae04",
        "outputId": "042353c5-6a29-4710-ab2a-16a2208e6e24"
      },
      "outputs": [
        {
          "output_type": "stream",
          "name": "stdout",
          "text": [
            "The mean of first ten prices is : 52.765\n",
            "The mean of last ten prices is : 47.13\n"
          ]
        }
      ],
      "source": [
        "print(f\"The mean of first ten prices is : {oil_series.iloc[:10].mean()}\")\n",
        "print(f\"The mean of last ten prices is : {oil_series.iloc[-10:].mean()}\")"
      ]
    },
    {
      "cell_type": "code",
      "execution_count": 36,
      "id": "44aa48a6",
      "metadata": {
        "colab": {
          "base_uri": "https://localhost:8080/"
        },
        "id": "44aa48a6",
        "outputId": "a464b89f-b979-4785-8c84-6f6a3a8655e2"
      },
      "outputs": [
        {
          "output_type": "execute_result",
          "data": {
            "text/plain": [
              "0    52.36\n",
              "1    53.26\n",
              "2    53.77\n",
              "3    53.98\n",
              "Name: Oil Series, dtype: float64"
            ]
          },
          "metadata": {},
          "execution_count": 36
        }
      ],
      "source": [
        "oil_series.loc['2017-01-01' : '2017-01-07'].reset_index(drop = True)"
      ]
    },
    {
      "cell_type": "markdown",
      "id": "deec0721",
      "metadata": {
        "id": "deec0721"
      },
      "source": [
        "# Assignment 3: Sorting and Filtering Series\n",
        "\n",
        "* First, get the 10 lowest prices from the data. \n",
        "* Sort the 10 lowest prices by date, starting with the most recent and ending with the oldest price.\n",
        "\n",
        "* Finally, use the list of provided dates. Select only rows with these dates that had a price of less than 50 dollars per barrel."
      ]
    },
    {
      "cell_type": "code",
      "execution_count": 37,
      "id": "46126b3e",
      "metadata": {
        "id": "46126b3e"
      },
      "outputs": [],
      "source": [
        "# list of dates to be used to solve bullet 3\n",
        "\n",
        "dates = [\n",
        "    \"2016-12-22\",\n",
        "    \"2017-05-03\",\n",
        "    \"2017-01-06\",\n",
        "    \"2017-03-05\",\n",
        "    \"2017-02-12\",\n",
        "    \"2017-03-21\",\n",
        "    \"2017-04-14\",\n",
        "    \"2017-04-15\",\n",
        "]"
      ]
    },
    {
      "cell_type": "code",
      "execution_count": 41,
      "id": "2eecaa97",
      "metadata": {
        "scrolled": false,
        "colab": {
          "base_uri": "https://localhost:8080/"
        },
        "id": "2eecaa97",
        "outputId": "0ef24005-2382-4e59-ee75-95b22dc7786e"
      },
      "outputs": [
        {
          "output_type": "execute_result",
          "data": {
            "text/plain": [
              "date\n",
              "2017-05-10    47.28\n",
              "2017-05-09    45.84\n",
              "2017-05-08    46.46\n",
              "2017-05-05    46.23\n",
              "2017-05-04    45.55\n",
              "2017-03-27    47.02\n",
              "2017-03-23    47.00\n",
              "2017-03-22    47.29\n",
              "2017-03-21    47.02\n",
              "2017-03-14    47.24\n",
              "Name: Oil Series, dtype: float64"
            ]
          },
          "metadata": {},
          "execution_count": 41
        }
      ],
      "source": [
        "oil_series.sort_values().iloc[0:10].sort_index(ascending = False)"
      ]
    },
    {
      "cell_type": "code",
      "execution_count": 45,
      "id": "4864ae20",
      "metadata": {
        "colab": {
          "base_uri": "https://localhost:8080/"
        },
        "id": "4864ae20",
        "outputId": "58ef3091-4ebd-414e-c9af-599a43641552"
      },
      "outputs": [
        {
          "output_type": "execute_result",
          "data": {
            "text/plain": [
              "date\n",
              "2017-03-21    47.02\n",
              "2017-05-03    47.79\n",
              "Name: Oil Series, dtype: float64"
            ]
          },
          "metadata": {},
          "execution_count": 45
        }
      ],
      "source": [
        "mask = (oil_series.index.isin(dates)) & (oil_series <= 50)\n",
        "\n",
        "oil_series.loc[mask] # oil_series[mask] "
      ]
    },
    {
      "cell_type": "markdown",
      "id": "ce362e59",
      "metadata": {
        "id": "ce362e59"
      },
      "source": [
        "\n",
        "# Assignment 4: Series Operations\n",
        "\n",
        "* Increase the prices in the oil series by 10%, and add an additional 2 dollars per barrel on top of that.\n",
        "\n",
        "* Then, create a series that represents the difference between each price and max price.\n",
        "\n",
        "* Finally, extract the month from the string dates in the index and store them as an integer in their own series."
      ]
    },
    {
      "cell_type": "code",
      "execution_count": 57,
      "id": "38305859",
      "metadata": {
        "colab": {
          "base_uri": "https://localhost:8080/"
        },
        "id": "38305859",
        "outputId": "b2a98dc4-b652-4bfe-ebe8-5c5c84132754"
      },
      "outputs": [
        {
          "output_type": "execute_result",
          "data": {
            "text/plain": [
              "date\n",
              "2016-12-20    59.442\n",
              "2016-12-21    58.584\n",
              "2016-12-22    59.178\n",
              "2016-12-23    59.211\n",
              "2016-12-27    60.102\n",
              "               ...  \n",
              "2017-05-09    52.424\n",
              "2017-05-10    54.008\n",
              "2017-05-11    54.591\n",
              "2017-05-12    54.613\n",
              "2017-05-15    55.746\n",
              "Name: Oil Series, Length: 100, dtype: float64"
            ]
          },
          "metadata": {},
          "execution_count": 57
        }
      ],
      "source": [
        "oil_series2 = oil_series.add(oil_series.mul(0.1)).add(2) # oil_series.mul(1.1).add(2)\n",
        "\n",
        "oil_series2"
      ]
    },
    {
      "cell_type": "code",
      "execution_count": 59,
      "id": "0f92574f",
      "metadata": {
        "colab": {
          "base_uri": "https://localhost:8080/"
        },
        "id": "0f92574f",
        "outputId": "f3722296-c399-4598-fa0b-4ebf16666a61"
      },
      "outputs": [
        {
          "output_type": "execute_result",
          "data": {
            "text/plain": [
              "54.48"
            ]
          },
          "metadata": {},
          "execution_count": 59
        }
      ],
      "source": [
        "max_price = oil_series.max()\n",
        "\n",
        "max_price"
      ]
    },
    {
      "cell_type": "code",
      "execution_count": 61,
      "id": "98b673c0",
      "metadata": {
        "colab": {
          "base_uri": "https://localhost:8080/"
        },
        "id": "98b673c0",
        "outputId": "39814319-6617-40e2-89fb-2da7250a0d57"
      },
      "outputs": [
        {
          "output_type": "execute_result",
          "data": {
            "text/plain": [
              "date\n",
              "2016-12-20   -0.041483\n",
              "2016-12-21   -0.055800\n",
              "2016-12-22   -0.045888\n",
              "2016-12-23   -0.045338\n",
              "2016-12-27   -0.030470\n",
              "                ...   \n",
              "2017-05-09   -0.158590\n",
              "2017-05-10   -0.132159\n",
              "2017-05-11   -0.122430\n",
              "2017-05-12   -0.122063\n",
              "2017-05-15   -0.103157\n",
              "Name: Oil Series, Length: 100, dtype: float64"
            ]
          },
          "metadata": {},
          "execution_count": 61
        }
      ],
      "source": [
        "max_price_differential = (oil_series - max_price) / max_price\n",
        "\n",
        "max_price_differential"
      ]
    },
    {
      "cell_type": "code",
      "execution_count": 64,
      "id": "0cbd5306",
      "metadata": {
        "colab": {
          "base_uri": "https://localhost:8080/"
        },
        "id": "0cbd5306",
        "outputId": "16a7cf08-7db0-468a-f9df-870ada89344e"
      },
      "outputs": [
        {
          "output_type": "execute_result",
          "data": {
            "text/plain": [
              "Index(['12', '12', '12', '12', '12', '12', '12', '12', '01', '01', '01', '01',\n",
              "       '01', '01', '01', '01', '01', '01', '01', '01', '01', '01', '01', '01',\n",
              "       '01', '01', '01', '01', '02', '02', '02', '02', '02', '02', '02', '02',\n",
              "       '02', '02', '02', '02', '02', '02', '02', '02', '02', '02', '02', '03',\n",
              "       '03', '03', '03', '03', '03', '03', '03', '03', '03', '03', '03', '03',\n",
              "       '03', '03', '03', '03', '03', '03', '03', '03', '03', '03', '04', '04',\n",
              "       '04', '04', '04', '04', '04', '04', '04', '04', '04', '04', '04', '04',\n",
              "       '04', '04', '04', '04', '04', '05', '05', '05', '05', '05', '05', '05',\n",
              "       '05', '05', '05', '05'],\n",
              "      dtype='object', name='date')"
            ]
          },
          "metadata": {},
          "execution_count": 64
        }
      ],
      "source": [
        "month = oil_series.index.str[5:7]\n",
        "\n",
        "month"
      ]
    },
    {
      "cell_type": "code",
      "execution_count": 65,
      "id": "0836c719",
      "metadata": {
        "colab": {
          "base_uri": "https://localhost:8080/"
        },
        "id": "0836c719",
        "outputId": "1c3a18de-bab9-4830-8a83-19f3c7fee3a8"
      },
      "outputs": [
        {
          "output_type": "execute_result",
          "data": {
            "text/plain": [
              "Int64Index([12, 12, 12, 12, 12, 12, 12, 12,  1,  1,  1,  1,  1,  1,  1,  1,  1,\n",
              "             1,  1,  1,  1,  1,  1,  1,  1,  1,  1,  1,  2,  2,  2,  2,  2,  2,\n",
              "             2,  2,  2,  2,  2,  2,  2,  2,  2,  2,  2,  2,  2,  3,  3,  3,  3,\n",
              "             3,  3,  3,  3,  3,  3,  3,  3,  3,  3,  3,  3,  3,  3,  3,  3,  3,\n",
              "             3,  3,  4,  4,  4,  4,  4,  4,  4,  4,  4,  4,  4,  4,  4,  4,  4,\n",
              "             4,  4,  4,  4,  5,  5,  5,  5,  5,  5,  5,  5,  5,  5,  5],\n",
              "           dtype='int64', name='date')"
            ]
          },
          "metadata": {},
          "execution_count": 65
        }
      ],
      "source": [
        "month_int = month.astype('int')\n",
        "\n",
        "month_int"
      ]
    },
    {
      "cell_type": "code",
      "execution_count": 66,
      "id": "fb8eac50",
      "metadata": {
        "colab": {
          "base_uri": "https://localhost:8080/"
        },
        "id": "fb8eac50",
        "outputId": "06b887bc-ea64-49a7-8f11-4fcb822c8d95"
      },
      "outputs": [
        {
          "output_type": "execute_result",
          "data": {
            "text/plain": [
              "0     12\n",
              "1     12\n",
              "2     12\n",
              "3     12\n",
              "4     12\n",
              "      ..\n",
              "95     5\n",
              "96     5\n",
              "97     5\n",
              "98     5\n",
              "99     5\n",
              "Name: Months Int, Length: 100, dtype: int64"
            ]
          },
          "metadata": {},
          "execution_count": 66
        }
      ],
      "source": [
        "month_int_series = pd.Series(month_int, name = 'Months Int')\n",
        "\n",
        "month_int_series"
      ]
    },
    {
      "cell_type": "markdown",
      "id": "4735ed48",
      "metadata": {
        "id": "4735ed48"
      },
      "source": [
        "# Assignment 5: Series Aggregations\n",
        "\n",
        "* Calculate the sum and mean of prices in the month of March. \n",
        "\n",
        "* Next, calculate how many prices were recorded in January and February.\n",
        "\n",
        "* Then, calculate the 10th and 90th percentiles across all data.\n",
        "\n",
        "* Finally, how often did integer dollar value (e.g. 51, 52) occur in the data? Normalize this to a percentage.   "
      ]
    },
    {
      "cell_type": "code",
      "execution_count": 73,
      "id": "b7846132",
      "metadata": {
        "colab": {
          "base_uri": "https://localhost:8080/"
        },
        "id": "b7846132",
        "outputId": "a7e7e76a-05d6-4c37-e232-ea35c6aa7467"
      },
      "outputs": [
        {
          "output_type": "stream",
          "name": "stdout",
          "text": [
            "The sum of the prices in month of march is : 1134.54\n",
            "\n",
            "\n",
            "The mean of the prices in month of march is : 49.33\n"
          ]
        }
      ],
      "source": [
        "print(f\"The sum of the prices in month of march is : {oil_series[oil_series.index.str[5:7] == '03'].sum().round(2)}\")\n",
        "print('\\n')\n",
        "print(f\"The mean of the prices in month of march is : {oil_series[oil_series.index.str[5:7] == '03'].mean().round(2)}\")"
      ]
    },
    {
      "cell_type": "code",
      "execution_count": 77,
      "id": "2d0ea594",
      "metadata": {
        "colab": {
          "base_uri": "https://localhost:8080/"
        },
        "id": "2d0ea594",
        "outputId": "fd89c16a-f11c-4175-db69-2f748e376a1a"
      },
      "outputs": [
        {
          "output_type": "stream",
          "name": "stdout",
          "text": [
            "The number of prices recorded in both Jan and Feb are : 39\n"
          ]
        }
      ],
      "source": [
        "print(f\"The number of prices recorded in both Jan and Feb are : {oil_series[oil_series.index.str[5:7].isin(['01', '02'])].count()}\")"
      ]
    },
    {
      "cell_type": "code",
      "execution_count": 78,
      "id": "d220d35d",
      "metadata": {
        "colab": {
          "base_uri": "https://localhost:8080/"
        },
        "id": "d220d35d",
        "outputId": "73681695-d196-4d9c-f2d3-e187404456c3"
      },
      "outputs": [
        {
          "output_type": "execute_result",
          "data": {
            "text/plain": [
              "0.1    47.299\n",
              "0.9    53.811\n",
              "Name: Oil Series, dtype: float64"
            ]
          },
          "metadata": {},
          "execution_count": 78
        }
      ],
      "source": [
        "oil_series.quantile([0.1, 0.9])"
      ]
    },
    {
      "cell_type": "code",
      "execution_count": 80,
      "id": "a5082d8f",
      "metadata": {
        "colab": {
          "base_uri": "https://localhost:8080/"
        },
        "id": "a5082d8f",
        "outputId": "c5f57e4f-9d6c-4c13-a949-5f9e323d5232"
      },
      "outputs": [
        {
          "output_type": "execute_result",
          "data": {
            "text/plain": [
              "53    26\n",
              "52    22\n",
              "47    13\n",
              "48    10\n",
              "51     7\n",
              "50     7\n",
              "49     6\n",
              "54     5\n",
              "45     2\n",
              "46     2\n",
              "Name: Oil Series, dtype: int64"
            ]
          },
          "metadata": {},
          "execution_count": 80
        }
      ],
      "source": [
        "oil_series.astype('int').value_counts()"
      ]
    },
    {
      "cell_type": "code",
      "execution_count": 81,
      "id": "fdbd3f03",
      "metadata": {
        "colab": {
          "base_uri": "https://localhost:8080/"
        },
        "id": "fdbd3f03",
        "outputId": "95c486c9-b33a-4ac3-c35c-1696d164b496"
      },
      "outputs": [
        {
          "output_type": "execute_result",
          "data": {
            "text/plain": [
              "53    0.26\n",
              "52    0.22\n",
              "47    0.13\n",
              "48    0.10\n",
              "51    0.07\n",
              "50    0.07\n",
              "49    0.06\n",
              "54    0.05\n",
              "45    0.02\n",
              "46    0.02\n",
              "Name: Oil Series, dtype: float64"
            ]
          },
          "metadata": {},
          "execution_count": 81
        }
      ],
      "source": [
        "oil_series.astype('int').value_counts(normalize = True)"
      ]
    },
    {
      "cell_type": "markdown",
      "id": "b81e8ab9",
      "metadata": {
        "id": "b81e8ab9"
      },
      "source": [
        "# Assignment 6: Missing Data\n",
        "\n",
        "There were some erroneous prices in our data, so they were filled in with missing values.\n",
        "\n",
        "Can you confirm the number of missing values in the price column? \n",
        "\n",
        "Once you’ve done that, fill the prices in with the median of the oil price series.\n"
      ]
    },
    {
      "cell_type": "code",
      "execution_count": 83,
      "id": "6d5fdec5",
      "metadata": {
        "scrolled": true,
        "colab": {
          "base_uri": "https://localhost:8080/"
        },
        "id": "6d5fdec5",
        "outputId": "91981a2b-0baf-43cc-add9-571dda29122d"
      },
      "outputs": [
        {
          "output_type": "execute_result",
          "data": {
            "text/plain": [
              "date\n",
              "2016-12-20    52.22\n",
              "2016-12-21      NaN\n",
              "2016-12-22    51.98\n",
              "2016-12-23    52.01\n",
              "2016-12-27    52.82\n",
              "              ...  \n",
              "2017-05-09    45.84\n",
              "2017-05-10    47.28\n",
              "2017-05-11    47.81\n",
              "2017-05-12      NaN\n",
              "2017-05-15    48.86\n",
              "Name: Oil Series, Length: 100, dtype: float64"
            ]
          },
          "metadata": {},
          "execution_count": 83
        }
      ],
      "source": [
        "# Fill in two values with missing data\n",
        "\n",
        "oil_series = oil_series.where(~oil_series.isin([51.44, 47.83]), pd.NA)\n",
        "\n",
        "oil_series"
      ]
    },
    {
      "cell_type": "code",
      "execution_count": 85,
      "id": "4c9fc3a5",
      "metadata": {
        "colab": {
          "base_uri": "https://localhost:8080/"
        },
        "id": "4c9fc3a5",
        "outputId": "49a20810-8e76-4f47-f96e-f74837cd5432"
      },
      "outputs": [
        {
          "output_type": "execute_result",
          "data": {
            "text/plain": [
              "2"
            ]
          },
          "metadata": {},
          "execution_count": 85
        }
      ],
      "source": [
        "oil_series.isna().sum()"
      ]
    },
    {
      "cell_type": "code",
      "execution_count": 87,
      "id": "1ec16104",
      "metadata": {
        "scrolled": true,
        "colab": {
          "base_uri": "https://localhost:8080/"
        },
        "id": "1ec16104",
        "outputId": "ce732926-4bb9-4042-afbb-b96a29e70463"
      },
      "outputs": [
        {
          "output_type": "execute_result",
          "data": {
            "text/plain": [
              "date\n",
              "2016-12-20    52.220\n",
              "2016-12-21    52.205\n",
              "2016-12-22    51.980\n",
              "2016-12-23    52.010\n",
              "2016-12-27    52.820\n",
              "               ...  \n",
              "2017-05-09    45.840\n",
              "2017-05-10    47.280\n",
              "2017-05-11    47.810\n",
              "2017-05-12    52.205\n",
              "2017-05-15    48.860\n",
              "Name: Oil Series, Length: 100, dtype: float64"
            ]
          },
          "metadata": {},
          "execution_count": 87
        }
      ],
      "source": [
        "oil_series.fillna(oil_series.median())"
      ]
    },
    {
      "cell_type": "markdown",
      "id": "19a0e70c",
      "metadata": {
        "id": "19a0e70c"
      },
      "source": [
        "# Exercise 7: Apply and Where\n",
        "\n",
        "Write a function that outputs ‘buy’ if price is less than the 90th percentile and ‘wait’ if it’s not. Apply it to the oil series.\n",
        "\n",
        "Then, create a series that multiplies price by .9 if the date is ‘2016-12-23’ or ‘2017-05-10’, and 1.1 for all other dates. "
      ]
    },
    {
      "cell_type": "code",
      "execution_count": 88,
      "id": "e508687c",
      "metadata": {
        "colab": {
          "base_uri": "https://localhost:8080/"
        },
        "id": "e508687c",
        "outputId": "4ad73c67-8eb3-4ce3-be47-3cb625da31f3"
      },
      "outputs": [
        {
          "output_type": "execute_result",
          "data": {
            "text/plain": [
              "date\n",
              "2016-12-20     Buy\n",
              "2016-12-21    Wait\n",
              "2016-12-22     Buy\n",
              "2016-12-23     Buy\n",
              "2016-12-27     Buy\n",
              "              ... \n",
              "2017-05-09     Buy\n",
              "2017-05-10     Buy\n",
              "2017-05-11     Buy\n",
              "2017-05-12    Wait\n",
              "2017-05-15     Buy\n",
              "Name: Oil Series, Length: 100, dtype: object"
            ]
          },
          "metadata": {},
          "execution_count": 88
        }
      ],
      "source": [
        "oil_series.apply(lambda x : 'Buy' if x < oil_series.quantile(0.9) else 'Wait')"
      ]
    },
    {
      "cell_type": "code",
      "execution_count": 92,
      "id": "3496ec24",
      "metadata": {
        "colab": {
          "base_uri": "https://localhost:8080/"
        },
        "id": "3496ec24",
        "outputId": "2e8f84d9-f7ab-4557-ce43-593a7a36a796"
      },
      "outputs": [
        {
          "output_type": "execute_result",
          "data": {
            "text/plain": [
              "date\n",
              "2016-12-20    52.22\n",
              "2016-12-21      NaN\n",
              "2016-12-22    51.98\n",
              "2016-12-23    52.01\n",
              "2016-12-27    52.82\n",
              "              ...  \n",
              "2017-05-09    45.84\n",
              "2017-05-10    47.28\n",
              "2017-05-11    47.81\n",
              "2017-05-12      NaN\n",
              "2017-05-15    48.86\n",
              "Name: Oil Series, Length: 100, dtype: float64"
            ]
          },
          "metadata": {},
          "execution_count": 92
        }
      ],
      "source": [
        "oil_series"
      ]
    },
    {
      "cell_type": "code",
      "execution_count": 93,
      "id": "feab5b7d",
      "metadata": {
        "colab": {
          "base_uri": "https://localhost:8080/"
        },
        "id": "feab5b7d",
        "outputId": "5d21c2b3-d5bd-429b-d15a-46a092fed00c"
      },
      "outputs": [
        {
          "output_type": "execute_result",
          "data": {
            "text/plain": [
              "array([57.442,    nan, 57.178, 46.809, 58.102, 59.411, 59.18 , 59.125,\n",
              "       57.596, 58.586, 59.147, 59.378, 57.145, 55.902, 57.409, 58.311,\n",
              "       57.596, 57.695, 56.232, 56.529, 57.563, 58.047, 57.618, 57.354,\n",
              "       58.564, 58.498, 57.893, 58.025, 59.29 , 58.905, 59.191, 58.311,\n",
              "       57.409, 57.607, 58.289, 59.224, 58.256, 58.531, 58.421, 58.751,\n",
              "       58.751, 59.422, 58.971, 59.928, 59.389, 59.444, 59.4  , 59.202,\n",
              "       57.893, 58.663, 58.509, 57.948, 54.813, 53.625, 52.855, 52.745,\n",
              "       51.964, 53.174, 53.13 , 53.174, 52.569, 51.722, 52.019, 51.7  ,\n",
              "       52.03 , 51.722, 53.196, 54.417, 55.33 , 55.594, 55.275, 56.089,\n",
              "       56.254, 56.859, 57.475, 58.366, 58.718, 58.432, 58.509, 57.882,\n",
              "       57.706, 55.539, 55.286, 54.604, 53.79 , 54.142, 54.142, 53.856,\n",
              "       54.241, 53.713, 52.415, 52.569, 50.105, 50.853, 51.106, 50.424,\n",
              "       42.552, 52.591,    nan, 53.746])"
            ]
          },
          "metadata": {},
          "execution_count": 93
        }
      ],
      "source": [
        "np.where(oil_series.index.isin(['2016-12-23', '2017-05-10']),oil_series * 0.9,oil_series * 1.1)"
      ]
    },
    {
      "cell_type": "code",
      "execution_count": 94,
      "id": "6e9ec561",
      "metadata": {
        "colab": {
          "base_uri": "https://localhost:8080/",
          "height": 455
        },
        "id": "6e9ec561",
        "outputId": "258cf4df-fefe-4d24-ffb1-7e417ac74eff"
      },
      "outputs": [
        {
          "output_type": "execute_result",
          "data": {
            "text/plain": [
              "            Oil Series\n",
              "date                  \n",
              "2016-12-20       52.22\n",
              "2016-12-21         NaN\n",
              "2016-12-22       51.98\n",
              "2016-12-23       52.01\n",
              "2016-12-27       52.82\n",
              "...                ...\n",
              "2017-05-09       45.84\n",
              "2017-05-10       47.28\n",
              "2017-05-11       47.81\n",
              "2017-05-12         NaN\n",
              "2017-05-15       48.86\n",
              "\n",
              "[100 rows x 1 columns]"
            ],
            "text/html": [
              "\n",
              "  <div id=\"df-38133ebf-e86e-4913-8e12-a214c34f8522\">\n",
              "    <div class=\"colab-df-container\">\n",
              "      <div>\n",
              "<style scoped>\n",
              "    .dataframe tbody tr th:only-of-type {\n",
              "        vertical-align: middle;\n",
              "    }\n",
              "\n",
              "    .dataframe tbody tr th {\n",
              "        vertical-align: top;\n",
              "    }\n",
              "\n",
              "    .dataframe thead th {\n",
              "        text-align: right;\n",
              "    }\n",
              "</style>\n",
              "<table border=\"1\" class=\"dataframe\">\n",
              "  <thead>\n",
              "    <tr style=\"text-align: right;\">\n",
              "      <th></th>\n",
              "      <th>Oil Series</th>\n",
              "    </tr>\n",
              "    <tr>\n",
              "      <th>date</th>\n",
              "      <th></th>\n",
              "    </tr>\n",
              "  </thead>\n",
              "  <tbody>\n",
              "    <tr>\n",
              "      <th>2016-12-20</th>\n",
              "      <td>52.22</td>\n",
              "    </tr>\n",
              "    <tr>\n",
              "      <th>2016-12-21</th>\n",
              "      <td>NaN</td>\n",
              "    </tr>\n",
              "    <tr>\n",
              "      <th>2016-12-22</th>\n",
              "      <td>51.98</td>\n",
              "    </tr>\n",
              "    <tr>\n",
              "      <th>2016-12-23</th>\n",
              "      <td>52.01</td>\n",
              "    </tr>\n",
              "    <tr>\n",
              "      <th>2016-12-27</th>\n",
              "      <td>52.82</td>\n",
              "    </tr>\n",
              "    <tr>\n",
              "      <th>...</th>\n",
              "      <td>...</td>\n",
              "    </tr>\n",
              "    <tr>\n",
              "      <th>2017-05-09</th>\n",
              "      <td>45.84</td>\n",
              "    </tr>\n",
              "    <tr>\n",
              "      <th>2017-05-10</th>\n",
              "      <td>47.28</td>\n",
              "    </tr>\n",
              "    <tr>\n",
              "      <th>2017-05-11</th>\n",
              "      <td>47.81</td>\n",
              "    </tr>\n",
              "    <tr>\n",
              "      <th>2017-05-12</th>\n",
              "      <td>NaN</td>\n",
              "    </tr>\n",
              "    <tr>\n",
              "      <th>2017-05-15</th>\n",
              "      <td>48.86</td>\n",
              "    </tr>\n",
              "  </tbody>\n",
              "</table>\n",
              "<p>100 rows × 1 columns</p>\n",
              "</div>\n",
              "      <button class=\"colab-df-convert\" onclick=\"convertToInteractive('df-38133ebf-e86e-4913-8e12-a214c34f8522')\"\n",
              "              title=\"Convert this dataframe to an interactive table.\"\n",
              "              style=\"display:none;\">\n",
              "        \n",
              "  <svg xmlns=\"http://www.w3.org/2000/svg\" height=\"24px\"viewBox=\"0 0 24 24\"\n",
              "       width=\"24px\">\n",
              "    <path d=\"M0 0h24v24H0V0z\" fill=\"none\"/>\n",
              "    <path d=\"M18.56 5.44l.94 2.06.94-2.06 2.06-.94-2.06-.94-.94-2.06-.94 2.06-2.06.94zm-11 1L8.5 8.5l.94-2.06 2.06-.94-2.06-.94L8.5 2.5l-.94 2.06-2.06.94zm10 10l.94 2.06.94-2.06 2.06-.94-2.06-.94-.94-2.06-.94 2.06-2.06.94z\"/><path d=\"M17.41 7.96l-1.37-1.37c-.4-.4-.92-.59-1.43-.59-.52 0-1.04.2-1.43.59L10.3 9.45l-7.72 7.72c-.78.78-.78 2.05 0 2.83L4 21.41c.39.39.9.59 1.41.59.51 0 1.02-.2 1.41-.59l7.78-7.78 2.81-2.81c.8-.78.8-2.07 0-2.86zM5.41 20L4 18.59l7.72-7.72 1.47 1.35L5.41 20z\"/>\n",
              "  </svg>\n",
              "      </button>\n",
              "      \n",
              "  <style>\n",
              "    .colab-df-container {\n",
              "      display:flex;\n",
              "      flex-wrap:wrap;\n",
              "      gap: 12px;\n",
              "    }\n",
              "\n",
              "    .colab-df-convert {\n",
              "      background-color: #E8F0FE;\n",
              "      border: none;\n",
              "      border-radius: 50%;\n",
              "      cursor: pointer;\n",
              "      display: none;\n",
              "      fill: #1967D2;\n",
              "      height: 32px;\n",
              "      padding: 0 0 0 0;\n",
              "      width: 32px;\n",
              "    }\n",
              "\n",
              "    .colab-df-convert:hover {\n",
              "      background-color: #E2EBFA;\n",
              "      box-shadow: 0px 1px 2px rgba(60, 64, 67, 0.3), 0px 1px 3px 1px rgba(60, 64, 67, 0.15);\n",
              "      fill: #174EA6;\n",
              "    }\n",
              "\n",
              "    [theme=dark] .colab-df-convert {\n",
              "      background-color: #3B4455;\n",
              "      fill: #D2E3FC;\n",
              "    }\n",
              "\n",
              "    [theme=dark] .colab-df-convert:hover {\n",
              "      background-color: #434B5C;\n",
              "      box-shadow: 0px 1px 3px 1px rgba(0, 0, 0, 0.15);\n",
              "      filter: drop-shadow(0px 1px 2px rgba(0, 0, 0, 0.3));\n",
              "      fill: #FFFFFF;\n",
              "    }\n",
              "  </style>\n",
              "\n",
              "      <script>\n",
              "        const buttonEl =\n",
              "          document.querySelector('#df-38133ebf-e86e-4913-8e12-a214c34f8522 button.colab-df-convert');\n",
              "        buttonEl.style.display =\n",
              "          google.colab.kernel.accessAllowed ? 'block' : 'none';\n",
              "\n",
              "        async function convertToInteractive(key) {\n",
              "          const element = document.querySelector('#df-38133ebf-e86e-4913-8e12-a214c34f8522');\n",
              "          const dataTable =\n",
              "            await google.colab.kernel.invokeFunction('convertToInteractive',\n",
              "                                                     [key], {});\n",
              "          if (!dataTable) return;\n",
              "\n",
              "          const docLinkHtml = 'Like what you see? Visit the ' +\n",
              "            '<a target=\"_blank\" href=https://colab.research.google.com/notebooks/data_table.ipynb>data table notebook</a>'\n",
              "            + ' to learn more about interactive tables.';\n",
              "          element.innerHTML = '';\n",
              "          dataTable['output_type'] = 'display_data';\n",
              "          await google.colab.output.renderOutput(dataTable, element);\n",
              "          const docLink = document.createElement('div');\n",
              "          docLink.innerHTML = docLinkHtml;\n",
              "          element.appendChild(docLink);\n",
              "        }\n",
              "      </script>\n",
              "    </div>\n",
              "  </div>\n",
              "  "
            ]
          },
          "metadata": {},
          "execution_count": 94
        }
      ],
      "source": [
        "df = pd.DataFrame(oil_series)\n",
        "\n",
        "df"
      ]
    },
    {
      "cell_type": "code",
      "source": [
        "df['new_series'] = np.where(oil_series.index.isin(['2016-12-23', '2017-05-10']),oil_series * 0.9,oil_series * 1.1)\n",
        "\n",
        "df"
      ],
      "metadata": {
        "colab": {
          "base_uri": "https://localhost:8080/",
          "height": 455
        },
        "id": "XPm6AQHtWAEP",
        "outputId": "e84b9ee0-71ad-41b1-a38f-1597a6557341"
      },
      "id": "XPm6AQHtWAEP",
      "execution_count": 95,
      "outputs": [
        {
          "output_type": "execute_result",
          "data": {
            "text/plain": [
              "            Oil Series  new_series\n",
              "date                              \n",
              "2016-12-20       52.22      57.442\n",
              "2016-12-21         NaN         NaN\n",
              "2016-12-22       51.98      57.178\n",
              "2016-12-23       52.01      46.809\n",
              "2016-12-27       52.82      58.102\n",
              "...                ...         ...\n",
              "2017-05-09       45.84      50.424\n",
              "2017-05-10       47.28      42.552\n",
              "2017-05-11       47.81      52.591\n",
              "2017-05-12         NaN         NaN\n",
              "2017-05-15       48.86      53.746\n",
              "\n",
              "[100 rows x 2 columns]"
            ],
            "text/html": [
              "\n",
              "  <div id=\"df-6b476d69-2bd5-4a1f-aebc-e5bce03e75da\">\n",
              "    <div class=\"colab-df-container\">\n",
              "      <div>\n",
              "<style scoped>\n",
              "    .dataframe tbody tr th:only-of-type {\n",
              "        vertical-align: middle;\n",
              "    }\n",
              "\n",
              "    .dataframe tbody tr th {\n",
              "        vertical-align: top;\n",
              "    }\n",
              "\n",
              "    .dataframe thead th {\n",
              "        text-align: right;\n",
              "    }\n",
              "</style>\n",
              "<table border=\"1\" class=\"dataframe\">\n",
              "  <thead>\n",
              "    <tr style=\"text-align: right;\">\n",
              "      <th></th>\n",
              "      <th>Oil Series</th>\n",
              "      <th>new_series</th>\n",
              "    </tr>\n",
              "    <tr>\n",
              "      <th>date</th>\n",
              "      <th></th>\n",
              "      <th></th>\n",
              "    </tr>\n",
              "  </thead>\n",
              "  <tbody>\n",
              "    <tr>\n",
              "      <th>2016-12-20</th>\n",
              "      <td>52.22</td>\n",
              "      <td>57.442</td>\n",
              "    </tr>\n",
              "    <tr>\n",
              "      <th>2016-12-21</th>\n",
              "      <td>NaN</td>\n",
              "      <td>NaN</td>\n",
              "    </tr>\n",
              "    <tr>\n",
              "      <th>2016-12-22</th>\n",
              "      <td>51.98</td>\n",
              "      <td>57.178</td>\n",
              "    </tr>\n",
              "    <tr>\n",
              "      <th>2016-12-23</th>\n",
              "      <td>52.01</td>\n",
              "      <td>46.809</td>\n",
              "    </tr>\n",
              "    <tr>\n",
              "      <th>2016-12-27</th>\n",
              "      <td>52.82</td>\n",
              "      <td>58.102</td>\n",
              "    </tr>\n",
              "    <tr>\n",
              "      <th>...</th>\n",
              "      <td>...</td>\n",
              "      <td>...</td>\n",
              "    </tr>\n",
              "    <tr>\n",
              "      <th>2017-05-09</th>\n",
              "      <td>45.84</td>\n",
              "      <td>50.424</td>\n",
              "    </tr>\n",
              "    <tr>\n",
              "      <th>2017-05-10</th>\n",
              "      <td>47.28</td>\n",
              "      <td>42.552</td>\n",
              "    </tr>\n",
              "    <tr>\n",
              "      <th>2017-05-11</th>\n",
              "      <td>47.81</td>\n",
              "      <td>52.591</td>\n",
              "    </tr>\n",
              "    <tr>\n",
              "      <th>2017-05-12</th>\n",
              "      <td>NaN</td>\n",
              "      <td>NaN</td>\n",
              "    </tr>\n",
              "    <tr>\n",
              "      <th>2017-05-15</th>\n",
              "      <td>48.86</td>\n",
              "      <td>53.746</td>\n",
              "    </tr>\n",
              "  </tbody>\n",
              "</table>\n",
              "<p>100 rows × 2 columns</p>\n",
              "</div>\n",
              "      <button class=\"colab-df-convert\" onclick=\"convertToInteractive('df-6b476d69-2bd5-4a1f-aebc-e5bce03e75da')\"\n",
              "              title=\"Convert this dataframe to an interactive table.\"\n",
              "              style=\"display:none;\">\n",
              "        \n",
              "  <svg xmlns=\"http://www.w3.org/2000/svg\" height=\"24px\"viewBox=\"0 0 24 24\"\n",
              "       width=\"24px\">\n",
              "    <path d=\"M0 0h24v24H0V0z\" fill=\"none\"/>\n",
              "    <path d=\"M18.56 5.44l.94 2.06.94-2.06 2.06-.94-2.06-.94-.94-2.06-.94 2.06-2.06.94zm-11 1L8.5 8.5l.94-2.06 2.06-.94-2.06-.94L8.5 2.5l-.94 2.06-2.06.94zm10 10l.94 2.06.94-2.06 2.06-.94-2.06-.94-.94-2.06-.94 2.06-2.06.94z\"/><path d=\"M17.41 7.96l-1.37-1.37c-.4-.4-.92-.59-1.43-.59-.52 0-1.04.2-1.43.59L10.3 9.45l-7.72 7.72c-.78.78-.78 2.05 0 2.83L4 21.41c.39.39.9.59 1.41.59.51 0 1.02-.2 1.41-.59l7.78-7.78 2.81-2.81c.8-.78.8-2.07 0-2.86zM5.41 20L4 18.59l7.72-7.72 1.47 1.35L5.41 20z\"/>\n",
              "  </svg>\n",
              "      </button>\n",
              "      \n",
              "  <style>\n",
              "    .colab-df-container {\n",
              "      display:flex;\n",
              "      flex-wrap:wrap;\n",
              "      gap: 12px;\n",
              "    }\n",
              "\n",
              "    .colab-df-convert {\n",
              "      background-color: #E8F0FE;\n",
              "      border: none;\n",
              "      border-radius: 50%;\n",
              "      cursor: pointer;\n",
              "      display: none;\n",
              "      fill: #1967D2;\n",
              "      height: 32px;\n",
              "      padding: 0 0 0 0;\n",
              "      width: 32px;\n",
              "    }\n",
              "\n",
              "    .colab-df-convert:hover {\n",
              "      background-color: #E2EBFA;\n",
              "      box-shadow: 0px 1px 2px rgba(60, 64, 67, 0.3), 0px 1px 3px 1px rgba(60, 64, 67, 0.15);\n",
              "      fill: #174EA6;\n",
              "    }\n",
              "\n",
              "    [theme=dark] .colab-df-convert {\n",
              "      background-color: #3B4455;\n",
              "      fill: #D2E3FC;\n",
              "    }\n",
              "\n",
              "    [theme=dark] .colab-df-convert:hover {\n",
              "      background-color: #434B5C;\n",
              "      box-shadow: 0px 1px 3px 1px rgba(0, 0, 0, 0.15);\n",
              "      filter: drop-shadow(0px 1px 2px rgba(0, 0, 0, 0.3));\n",
              "      fill: #FFFFFF;\n",
              "    }\n",
              "  </style>\n",
              "\n",
              "      <script>\n",
              "        const buttonEl =\n",
              "          document.querySelector('#df-6b476d69-2bd5-4a1f-aebc-e5bce03e75da button.colab-df-convert');\n",
              "        buttonEl.style.display =\n",
              "          google.colab.kernel.accessAllowed ? 'block' : 'none';\n",
              "\n",
              "        async function convertToInteractive(key) {\n",
              "          const element = document.querySelector('#df-6b476d69-2bd5-4a1f-aebc-e5bce03e75da');\n",
              "          const dataTable =\n",
              "            await google.colab.kernel.invokeFunction('convertToInteractive',\n",
              "                                                     [key], {});\n",
              "          if (!dataTable) return;\n",
              "\n",
              "          const docLinkHtml = 'Like what you see? Visit the ' +\n",
              "            '<a target=\"_blank\" href=https://colab.research.google.com/notebooks/data_table.ipynb>data table notebook</a>'\n",
              "            + ' to learn more about interactive tables.';\n",
              "          element.innerHTML = '';\n",
              "          dataTable['output_type'] = 'display_data';\n",
              "          await google.colab.output.renderOutput(dataTable, element);\n",
              "          const docLink = document.createElement('div');\n",
              "          docLink.innerHTML = docLinkHtml;\n",
              "          element.appendChild(docLink);\n",
              "        }\n",
              "      </script>\n",
              "    </div>\n",
              "  </div>\n",
              "  "
            ]
          },
          "metadata": {},
          "execution_count": 95
        }
      ]
    }
  ],
  "metadata": {
    "kernelspec": {
      "display_name": "Python 3 (ipykernel)",
      "language": "python",
      "name": "python3"
    },
    "language_info": {
      "codemirror_mode": {
        "name": "ipython",
        "version": 3
      },
      "file_extension": ".py",
      "mimetype": "text/x-python",
      "name": "python",
      "nbconvert_exporter": "python",
      "pygments_lexer": "ipython3",
      "version": "3.9.7"
    },
    "colab": {
      "provenance": [],
      "include_colab_link": true
    }
  },
  "nbformat": 4,
  "nbformat_minor": 5
}