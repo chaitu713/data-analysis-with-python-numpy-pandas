{
  "cells": [
    {
      "cell_type": "markdown",
      "metadata": {
        "id": "view-in-github",
        "colab_type": "text"
      },
      "source": [
        "<a href=\"https://colab.research.google.com/github/chaitu713/data-analysis-with-python-numpy-pandas/blob/master/1%20numpy-assignment-1.ipynb\" target=\"_parent\"><img src=\"https://colab.research.google.com/assets/colab-badge.svg\" alt=\"Open In Colab\"/></a>"
      ]
    },
    {
      "cell_type": "markdown",
      "id": "d0d4a2ef",
      "metadata": {
        "id": "d0d4a2ef"
      },
      "source": [
        "### Package Imports"
      ]
    },
    {
      "cell_type": "code",
      "execution_count": 1,
      "id": "dbd96293",
      "metadata": {
        "id": "dbd96293"
      },
      "outputs": [],
      "source": [
        "import numpy as np"
      ]
    },
    {
      "cell_type": "markdown",
      "id": "3a5e9bd3",
      "metadata": {
        "id": "3a5e9bd3"
      },
      "source": [
        "# Assignment 1: Array Basics\n",
        "\n",
        "Hi there,\n",
        "\n",
        "Can you import Numpy and convert the following list comprehension (I just learned about comprehensions in an awesome course by Maven) into an array?\n",
        "\n",
        "Once you've done that report the following about the array:\n",
        "* The number of dimensions \n",
        "* The shape\n",
        "* The number of elements in the array\n",
        "* The type of data contained inside"
      ]
    },
    {
      "cell_type": "code",
      "execution_count": 2,
      "id": "6d3f8d99",
      "metadata": {
        "id": "6d3f8d99"
      },
      "outputs": [],
      "source": [
        "my_list = [x * 10 for x in range(1, 11)]"
      ]
    },
    {
      "cell_type": "code",
      "execution_count": 3,
      "id": "ac0d2c7b",
      "metadata": {
        "colab": {
          "base_uri": "https://localhost:8080/"
        },
        "id": "ac0d2c7b",
        "outputId": "e4bddcf5-d063-419b-fb2c-a8bf3e07ee39"
      },
      "outputs": [
        {
          "output_type": "execute_result",
          "data": {
            "text/plain": [
              "[10, 20, 30, 40, 50, 60, 70, 80, 90, 100]"
            ]
          },
          "metadata": {},
          "execution_count": 3
        }
      ],
      "source": [
        "my_list"
      ]
    },
    {
      "cell_type": "code",
      "execution_count": 4,
      "id": "49d55877",
      "metadata": {
        "id": "49d55877"
      },
      "outputs": [],
      "source": [
        "my_list_arr = np.array(my_list)"
      ]
    },
    {
      "cell_type": "code",
      "execution_count": 5,
      "id": "7b50a227",
      "metadata": {
        "colab": {
          "base_uri": "https://localhost:8080/"
        },
        "id": "7b50a227",
        "outputId": "ad82bf7b-5af9-4d2b-eadc-35e41019782d"
      },
      "outputs": [
        {
          "output_type": "execute_result",
          "data": {
            "text/plain": [
              "array([ 10,  20,  30,  40,  50,  60,  70,  80,  90, 100])"
            ]
          },
          "metadata": {},
          "execution_count": 5
        }
      ],
      "source": [
        "my_list_arr"
      ]
    },
    {
      "cell_type": "code",
      "source": [
        "my_list_arr.ndim"
      ],
      "metadata": {
        "colab": {
          "base_uri": "https://localhost:8080/"
        },
        "id": "Wb9aOK1Vk3dI",
        "outputId": "23638602-1ec8-4803-bd3a-22c4d09c3878"
      },
      "id": "Wb9aOK1Vk3dI",
      "execution_count": 6,
      "outputs": [
        {
          "output_type": "execute_result",
          "data": {
            "text/plain": [
              "1"
            ]
          },
          "metadata": {},
          "execution_count": 6
        }
      ]
    },
    {
      "cell_type": "code",
      "source": [
        "my_list_arr.shape"
      ],
      "metadata": {
        "colab": {
          "base_uri": "https://localhost:8080/"
        },
        "id": "sooSwdKElAx2",
        "outputId": "d0d6e3bb-0aec-4675-dbe4-7a196baf7d63"
      },
      "id": "sooSwdKElAx2",
      "execution_count": 8,
      "outputs": [
        {
          "output_type": "execute_result",
          "data": {
            "text/plain": [
              "(10,)"
            ]
          },
          "metadata": {},
          "execution_count": 8
        }
      ]
    },
    {
      "cell_type": "code",
      "source": [
        "my_list_arr.size"
      ],
      "metadata": {
        "colab": {
          "base_uri": "https://localhost:8080/"
        },
        "id": "M0aPs13SlDmS",
        "outputId": "72961ce4-f7df-436d-ad2a-6f7124de8c8c"
      },
      "id": "M0aPs13SlDmS",
      "execution_count": 9,
      "outputs": [
        {
          "output_type": "execute_result",
          "data": {
            "text/plain": [
              "10"
            ]
          },
          "metadata": {},
          "execution_count": 9
        }
      ]
    },
    {
      "cell_type": "code",
      "execution_count": 10,
      "id": "6c5d9bd1",
      "metadata": {
        "colab": {
          "base_uri": "https://localhost:8080/"
        },
        "id": "6c5d9bd1",
        "outputId": "51da002b-2db1-41e7-b96b-7b9cade00836"
      },
      "outputs": [
        {
          "output_type": "execute_result",
          "data": {
            "text/plain": [
              "dtype('int64')"
            ]
          },
          "metadata": {},
          "execution_count": 10
        }
      ],
      "source": [
        "my_list_arr.dtype"
      ]
    },
    {
      "cell_type": "markdown",
      "id": "8ff92bb7",
      "metadata": {
        "id": "8ff92bb7"
      },
      "source": [
        "# Assignment 2: Array Creation\n",
        "\n",
        "Thanks for your help with the first piece - I'm starting to understand some of the key differences between base Python data types and NumPy arrays. \n",
        "\n",
        "Does NumPy have anything like the range() function from base Python?\n",
        "\n",
        "If so: \n",
        "* create the same array from assignment 1 using a NumPy function. \n",
        "* Make it 5 rows and 2 columns. \n",
        "* It's ok if the datatype is float or int."
      ]
    },
    {
      "cell_type": "code",
      "execution_count": 11,
      "id": "81839e0f",
      "metadata": {
        "id": "81839e0f"
      },
      "outputs": [],
      "source": [
        "np_arr = np.arange(10, 110, 10)"
      ]
    },
    {
      "cell_type": "code",
      "source": [
        "np_arr"
      ],
      "metadata": {
        "colab": {
          "base_uri": "https://localhost:8080/"
        },
        "id": "LcroRwn61On7",
        "outputId": "1d852d1a-dbe5-4546-9afb-ccf522d7fd1e"
      },
      "id": "LcroRwn61On7",
      "execution_count": 12,
      "outputs": [
        {
          "output_type": "execute_result",
          "data": {
            "text/plain": [
              "array([ 10,  20,  30,  40,  50,  60,  70,  80,  90, 100])"
            ]
          },
          "metadata": {},
          "execution_count": 12
        }
      ]
    },
    {
      "cell_type": "code",
      "source": [
        "np_arr_2d = np_arr.reshape(5, 2)"
      ],
      "metadata": {
        "id": "RHJTxpl11Rc0"
      },
      "id": "RHJTxpl11Rc0",
      "execution_count": 13,
      "outputs": []
    },
    {
      "cell_type": "code",
      "source": [
        "np_arr_2d"
      ],
      "metadata": {
        "colab": {
          "base_uri": "https://localhost:8080/"
        },
        "id": "6CAbMNlH1bZv",
        "outputId": "3d93adac-a9e1-47bb-a145-29c2a4253751"
      },
      "id": "6CAbMNlH1bZv",
      "execution_count": 14,
      "outputs": [
        {
          "output_type": "execute_result",
          "data": {
            "text/plain": [
              "array([[ 10,  20],\n",
              "       [ 30,  40],\n",
              "       [ 50,  60],\n",
              "       [ 70,  80],\n",
              "       [ 90, 100]])"
            ]
          },
          "metadata": {},
          "execution_count": 14
        }
      ]
    },
    {
      "cell_type": "markdown",
      "id": "e0849aa4",
      "metadata": {
        "id": "e0849aa4"
      },
      "source": [
        "Looking good so far! One of our data scientists asked about random number generation in NumPy.\n",
        "\n",
        "Can you create a 3x3 array of random numbers between 0 and 1? Use a random state of 2022.\n",
        "\n",
        "Store the random array in a variable called `random_array`."
      ]
    },
    {
      "cell_type": "code",
      "execution_count": 15,
      "id": "a2e29128",
      "metadata": {
        "id": "a2e29128"
      },
      "outputs": [],
      "source": [
        "from numpy.random import default_rng"
      ]
    },
    {
      "cell_type": "code",
      "source": [
        "rng = default_rng(2022)"
      ],
      "metadata": {
        "id": "Oy2gCQoc2N6L"
      },
      "id": "Oy2gCQoc2N6L",
      "execution_count": 16,
      "outputs": []
    },
    {
      "cell_type": "code",
      "source": [
        "random_array = rng.random(9).reshape(3, 3)"
      ],
      "metadata": {
        "id": "xSGnAA6J2SVl"
      },
      "id": "xSGnAA6J2SVl",
      "execution_count": 20,
      "outputs": []
    },
    {
      "cell_type": "code",
      "source": [
        "random_array"
      ],
      "metadata": {
        "colab": {
          "base_uri": "https://localhost:8080/"
        },
        "id": "GOWTDSqT2hJ6",
        "outputId": "8c40b1bb-e8a7-4679-d486-87a8bc893019"
      },
      "id": "GOWTDSqT2hJ6",
      "execution_count": 24,
      "outputs": [
        {
          "output_type": "execute_result",
          "data": {
            "text/plain": [
              "array([[0.98862926, 0.96919869, 0.25697153],\n",
              "       [0.55876211, 0.24234798, 0.32202029],\n",
              "       [0.89135975, 0.94611366, 0.72253931]])"
            ]
          },
          "metadata": {},
          "execution_count": 24
        }
      ]
    },
    {
      "cell_type": "markdown",
      "id": "6927e8b0",
      "metadata": {
        "id": "6927e8b0"
      },
      "source": [
        "# Assignment 3: Accessing Array Data\n",
        "\n",
        "\n",
        "Slice and index the `random_array` we created in the previous exercise. Perform the following:\n",
        "\n",
        "* Grab the first two 'rows' of the array\n",
        "* Grab the entire first column\n",
        "* Finally, grab the second element of the third row.\n",
        "\n",
        "Thanks!\n"
      ]
    },
    {
      "cell_type": "code",
      "execution_count": 32,
      "id": "62a4e208",
      "metadata": {
        "colab": {
          "base_uri": "https://localhost:8080/"
        },
        "id": "62a4e208",
        "outputId": "2247ba21-1859-4166-b157-fa56527a4f3d"
      },
      "outputs": [
        {
          "output_type": "execute_result",
          "data": {
            "text/plain": [
              "array([[0.98862926, 0.96919869, 0.25697153],\n",
              "       [0.55876211, 0.24234798, 0.32202029],\n",
              "       [0.89135975, 0.94611366, 0.72253931]])"
            ]
          },
          "metadata": {},
          "execution_count": 32
        }
      ],
      "source": [
        "random_array"
      ]
    },
    {
      "cell_type": "code",
      "execution_count": 37,
      "id": "8f9e9acf",
      "metadata": {
        "scrolled": true,
        "colab": {
          "base_uri": "https://localhost:8080/"
        },
        "id": "8f9e9acf",
        "outputId": "a6a178d2-8fef-481c-9194-9f1ee4433493"
      },
      "outputs": [
        {
          "output_type": "execute_result",
          "data": {
            "text/plain": [
              "array([[0.98862926, 0.96919869, 0.25697153],\n",
              "       [0.55876211, 0.24234798, 0.32202029]])"
            ]
          },
          "metadata": {},
          "execution_count": 37
        }
      ],
      "source": [
        "random_array[0:2]"
      ]
    },
    {
      "cell_type": "code",
      "execution_count": 43,
      "id": "87fa83f7",
      "metadata": {
        "colab": {
          "base_uri": "https://localhost:8080/"
        },
        "id": "87fa83f7",
        "outputId": "f30f6fa0-1593-4769-da9d-73d3b5ecf2c0"
      },
      "outputs": [
        {
          "output_type": "execute_result",
          "data": {
            "text/plain": [
              "array([0.98862926, 0.55876211, 0.89135975])"
            ]
          },
          "metadata": {},
          "execution_count": 43
        }
      ],
      "source": [
        "random_array[:,0]"
      ]
    },
    {
      "cell_type": "markdown",
      "source": [
        "# **OR**"
      ],
      "metadata": {
        "id": "z2-lKFgK7FTS"
      },
      "id": "z2-lKFgK7FTS"
    },
    {
      "cell_type": "code",
      "source": [
        "random_array.T[0]"
      ],
      "metadata": {
        "colab": {
          "base_uri": "https://localhost:8080/"
        },
        "id": "M97Qdibt7Hh-",
        "outputId": "e8525060-8f78-4df7-b721-e8ec73ffa789"
      },
      "id": "M97Qdibt7Hh-",
      "execution_count": 44,
      "outputs": [
        {
          "output_type": "execute_result",
          "data": {
            "text/plain": [
              "array([0.98862926, 0.55876211, 0.89135975])"
            ]
          },
          "metadata": {},
          "execution_count": 44
        }
      ]
    },
    {
      "cell_type": "code",
      "execution_count": 45,
      "id": "fe985696",
      "metadata": {
        "colab": {
          "base_uri": "https://localhost:8080/"
        },
        "id": "fe985696",
        "outputId": "592c4dda-ea68-452a-bdaa-b94df075826c"
      },
      "outputs": [
        {
          "output_type": "execute_result",
          "data": {
            "text/plain": [
              "0.9461136638059269"
            ]
          },
          "metadata": {},
          "execution_count": 45
        }
      ],
      "source": [
        "random_array[2, 1]"
      ]
    },
    {
      "cell_type": "markdown",
      "source": [
        "# **OR**"
      ],
      "metadata": {
        "id": "1ExMKz-pAWP6"
      },
      "id": "1ExMKz-pAWP6"
    },
    {
      "cell_type": "code",
      "source": [
        "random_array[2][1]"
      ],
      "metadata": {
        "colab": {
          "base_uri": "https://localhost:8080/"
        },
        "id": "LrDqFgC8AYMf",
        "outputId": "790bf9f0-b03d-456a-8984-9cc71a2a7dbd"
      },
      "id": "LrDqFgC8AYMf",
      "execution_count": 46,
      "outputs": [
        {
          "output_type": "execute_result",
          "data": {
            "text/plain": [
              "0.9461136638059269"
            ]
          },
          "metadata": {},
          "execution_count": 46
        }
      ]
    },
    {
      "cell_type": "markdown",
      "id": "6e9ae36a",
      "metadata": {
        "id": "6e9ae36a"
      },
      "source": [
        "# Assignment 4: Arithmetic Operations"
      ]
    },
    {
      "cell_type": "markdown",
      "id": "b7283da4",
      "metadata": {
        "id": "b7283da4"
      },
      "source": [
        "The creativity of our marketing team knows no bounds!\n",
        "\n",
        "They've asked us to come up with a simple algorithm to provide a random discount to our list of prices below. \n",
        "\n",
        "Before we do that, \n",
        "\n",
        "* Add a 5 dollar shipping fee to each price. Call this array `total`.\n",
        "\n",
        "Once we have that, we want to use the random_array created in assignment 2 and apply them to the 6 prices.\n",
        "\n",
        "* Grab the first 6 numbers from `random_array`, reshape it to one dimension. Call this `discount_pct`.\n",
        "* Subtract `discount_pct` FROM 1, store this in `pct_owed`.\n",
        "* Multiply `pct_owed` by `total` to get the final amount owed."
      ]
    },
    {
      "cell_type": "code",
      "execution_count": 58,
      "id": "f44773da",
      "metadata": {
        "id": "f44773da"
      },
      "outputs": [],
      "source": [
        "prices = np.array([5.99, 6.99, 22.49, 99.99, 4.99, 49.99])"
      ]
    },
    {
      "cell_type": "code",
      "execution_count": 59,
      "id": "9171609a",
      "metadata": {
        "colab": {
          "base_uri": "https://localhost:8080/"
        },
        "id": "9171609a",
        "outputId": "13b9eabb-700d-4e62-b0ed-88cc41196afc"
      },
      "outputs": [
        {
          "output_type": "execute_result",
          "data": {
            "text/plain": [
              "array([ 10.99,  11.99,  27.49, 104.99,   9.99,  54.99])"
            ]
          },
          "metadata": {},
          "execution_count": 59
        }
      ],
      "source": [
        "total = prices + 5\n",
        "\n",
        "total"
      ]
    },
    {
      "cell_type": "code",
      "execution_count": 60,
      "id": "a06dbc29",
      "metadata": {
        "colab": {
          "base_uri": "https://localhost:8080/"
        },
        "id": "a06dbc29",
        "outputId": "3d85300e-44f1-4ee3-9601-587c906b233b"
      },
      "outputs": [
        {
          "output_type": "execute_result",
          "data": {
            "text/plain": [
              "array([[0.98862926, 0.96919869, 0.25697153, 0.55876211, 0.24234798,\n",
              "        0.32202029]])"
            ]
          },
          "metadata": {},
          "execution_count": 60
        }
      ],
      "source": [
        "discount_pct = random_array[0:2, :].reshape(1, 6)\n",
        "\n",
        "discount_pct"
      ]
    },
    {
      "cell_type": "code",
      "execution_count": 61,
      "id": "da03368e",
      "metadata": {
        "colab": {
          "base_uri": "https://localhost:8080/"
        },
        "id": "da03368e",
        "outputId": "d06464a5-c071-4f11-f751-3929aa18965d"
      },
      "outputs": [
        {
          "output_type": "execute_result",
          "data": {
            "text/plain": [
              "array([[0.01137074, 0.03080131, 0.74302847, 0.44123789, 0.75765202,\n",
              "        0.67797971]])"
            ]
          },
          "metadata": {},
          "execution_count": 61
        }
      ],
      "source": [
        "pct_owned = 1 - discount_pct\n",
        "\n",
        "pct_owned"
      ]
    },
    {
      "cell_type": "code",
      "source": [
        "final_amnt = pct_owned * total\n",
        "\n",
        "final_amnt.round(2)"
      ],
      "metadata": {
        "colab": {
          "base_uri": "https://localhost:8080/"
        },
        "id": "IUv7X7HrEhw6",
        "outputId": "8735dcc1-5f38-4c7e-8fa5-4fdc8595ebd0"
      },
      "id": "IUv7X7HrEhw6",
      "execution_count": 63,
      "outputs": [
        {
          "output_type": "execute_result",
          "data": {
            "text/plain": [
              "array([[ 0.12,  0.37, 20.43, 46.33,  7.57, 37.28]])"
            ]
          },
          "metadata": {},
          "execution_count": 63
        }
      ]
    },
    {
      "cell_type": "markdown",
      "id": "30400903",
      "metadata": {
        "id": "30400903"
      },
      "source": [
        "# Assignment 5: Filtering Arrays\n",
        "\n",
        "Filter the product array to only include those with prices greater than 25.\n",
        "\n",
        "Modify your logic to include cola, despite it not having a price greater than 25. \n",
        "Store the elements returned in an array called `fancy_feast_special`.\n",
        "\n",
        "Next, create a shipping cost array where the cost is 0 if price is greater than 20, and 5 if not. "
      ]
    },
    {
      "cell_type": "code",
      "execution_count": 65,
      "id": "c144c432",
      "metadata": {
        "colab": {
          "base_uri": "https://localhost:8080/"
        },
        "id": "c144c432",
        "outputId": "43c4584b-2d52-4f19-9389-13b6d90a717c"
      },
      "outputs": [
        {
          "output_type": "stream",
          "name": "stdout",
          "text": [
            "products : ['salad' 'bread' 'mustard' 'rare tomato' 'cola' 'gourmet ice cream']\n",
            "prices : [ 5.99  6.99 22.49 99.99  4.99 49.99]\n"
          ]
        }
      ],
      "source": [
        "products = np.array(\n",
        "    [\"salad\", \"bread\", \"mustard\", \"rare tomato\", \"cola\", \"gourmet ice cream\"]\n",
        ")\n",
        "\n",
        "print(f\"products : {products}\")\n",
        "print(f\"prices : {prices}\")"
      ]
    },
    {
      "cell_type": "code",
      "execution_count": 67,
      "id": "ba1b077b",
      "metadata": {
        "colab": {
          "base_uri": "https://localhost:8080/"
        },
        "id": "ba1b077b",
        "outputId": "6d748b6d-6765-421e-9276-e0c9ac280f83"
      },
      "outputs": [
        {
          "output_type": "execute_result",
          "data": {
            "text/plain": [
              "array(['rare tomato', 'gourmet ice cream'], dtype='<U17')"
            ]
          },
          "metadata": {},
          "execution_count": 67
        }
      ],
      "source": [
        "products[prices > 25]"
      ]
    },
    {
      "cell_type": "code",
      "execution_count": 72,
      "id": "4002705c",
      "metadata": {
        "colab": {
          "base_uri": "https://localhost:8080/"
        },
        "id": "4002705c",
        "outputId": "36c82045-1efb-4056-c6f4-8a16fe795db6"
      },
      "outputs": [
        {
          "output_type": "execute_result",
          "data": {
            "text/plain": [
              "array(['rare tomato', 'cola', 'gourmet ice cream'], dtype='<U17')"
            ]
          },
          "metadata": {},
          "execution_count": 72
        }
      ],
      "source": [
        "mask = (prices > 25) | (products == 'cola')\n",
        "\n",
        "fancy_feast_special = products[mask]\n",
        "\n",
        "fancy_feast_special"
      ]
    },
    {
      "cell_type": "code",
      "execution_count": 73,
      "id": "4a8368d4",
      "metadata": {
        "colab": {
          "base_uri": "https://localhost:8080/"
        },
        "id": "4a8368d4",
        "outputId": "58a38ee0-b923-4497-915e-f84f227d2347"
      },
      "outputs": [
        {
          "output_type": "execute_result",
          "data": {
            "text/plain": [
              "array([5, 5, 0, 0, 5, 0])"
            ]
          },
          "metadata": {},
          "execution_count": 73
        }
      ],
      "source": [
        "shipping_cost = np.where(prices > 20, 0, 5)\n",
        "\n",
        "shipping_cost"
      ]
    },
    {
      "cell_type": "markdown",
      "id": "44ce04ed",
      "metadata": {
        "id": "44ce04ed"
      },
      "source": [
        "# Assignment 6: Aggregating and Sorting Arrays\n",
        "\n",
        "First, grab the top 3 highest priced items in our list. \n",
        "\n",
        "Then, calculated the mean, min, max, and median of the top three prices.\n",
        "\n",
        "Finally, calculate the number of unique price tiers in our `price_tiers` array."
      ]
    },
    {
      "cell_type": "code",
      "execution_count": 74,
      "id": "f97f4598",
      "metadata": {
        "colab": {
          "base_uri": "https://localhost:8080/"
        },
        "id": "f97f4598",
        "outputId": "84e7b454-f301-4d31-ba48-7914786aa055"
      },
      "outputs": [
        {
          "output_type": "execute_result",
          "data": {
            "text/plain": [
              "array([ 5.99,  6.99, 22.49, 99.99,  4.99, 49.99])"
            ]
          },
          "metadata": {},
          "execution_count": 74
        }
      ],
      "source": [
        "prices = np.array([5.99, 6.99, 22.49, 99.99, 4.99, 49.99])\n",
        "\n",
        "prices"
      ]
    },
    {
      "cell_type": "code",
      "execution_count": 78,
      "id": "c462eeef",
      "metadata": {
        "colab": {
          "base_uri": "https://localhost:8080/"
        },
        "id": "c462eeef",
        "outputId": "5c8a8158-7a67-4a2e-d0cf-07209f08a2ef"
      },
      "outputs": [
        {
          "output_type": "execute_result",
          "data": {
            "text/plain": [
              "array([22.49, 49.99, 99.99])"
            ]
          },
          "metadata": {},
          "execution_count": 78
        }
      ],
      "source": [
        "prices.sort()\n",
        "\n",
        "max_three = prices[3:]\n",
        "\n",
        "max_three"
      ]
    },
    {
      "cell_type": "code",
      "execution_count": 82,
      "id": "4a0b5694",
      "metadata": {
        "colab": {
          "base_uri": "https://localhost:8080/"
        },
        "id": "4a0b5694",
        "outputId": "f7a5a259-c43f-4f38-ee21-734ae3544b3f"
      },
      "outputs": [
        {
          "output_type": "stream",
          "name": "stdout",
          "text": [
            "mean of top three prices is : 57.49\n",
            "min of top three prices is : 22.49\n",
            "max of top three prices is : 99.99\n",
            "median of top three prices is : 49.99\n"
          ]
        }
      ],
      "source": [
        "print(f\"mean of top three prices is : {max_three.mean()}\")\n",
        "print(f\"min of top three prices is : {max_three.min()}\")\n",
        "print(f\"max of top three prices is : {max_three.max()}\")\n",
        "print(f\"median of top three prices is : {np.median(max_three)}\")"
      ]
    },
    {
      "cell_type": "code",
      "execution_count": 83,
      "id": "b9087568",
      "metadata": {
        "id": "b9087568"
      },
      "outputs": [],
      "source": [
        "price_tiers = np.array([\"budget\", \"budget\", \"mid-tier\", \"luxury\", \"mid-tier\", \"luxury\"])"
      ]
    },
    {
      "cell_type": "code",
      "execution_count": 86,
      "id": "6b6e2292",
      "metadata": {
        "colab": {
          "base_uri": "https://localhost:8080/"
        },
        "id": "6b6e2292",
        "outputId": "8f31dba5-a667-43e0-84f5-77a9577da6d0"
      },
      "outputs": [
        {
          "output_type": "stream",
          "name": "stdout",
          "text": [
            "['budget' 'luxury' 'mid-tier']\n",
            "No. of unique price tiers : 3\n"
          ]
        }
      ],
      "source": [
        "unique_price_tiers = np.unique(price_tiers)\n",
        "\n",
        "print(unique_price_tiers)\n",
        "\n",
        "print(f\"No. of unique price tiers : {unique_price_tiers.size}\")"
      ]
    },
    {
      "cell_type": "markdown",
      "id": "31b66238",
      "metadata": {
        "id": "31b66238"
      },
      "source": [
        "# Assignment 7: Bringing it All Together\n",
        "\n",
        "Ok, final NumPy task - let's read in some data with the help of Pandas.\n",
        "\n",
        "Our data scientist provided the code to read in a csv as a Pandas dataframe, and has converted the two columns of interest to arrays.\n",
        "\n",
        "* Filter `sales_array` down to only sales where the product family was produce. \n",
        "\n",
        "* Then, randomly sample roughly half (random number < .5) of the produce sales and report the mean and median sales. Use a random seed of 2022.\n",
        "\n",
        "* Finally, create a new array that has the values 'above_both', 'above_median', and 'below_both' based on whether the sales were above the median and mean of the sample, just above the median of the sample, or below both the median and mean of the sample. "
      ]
    },
    {
      "cell_type": "code",
      "execution_count": 88,
      "id": "5b567c99",
      "metadata": {
        "id": "5b567c99"
      },
      "outputs": [],
      "source": [
        "import pandas as pd\n",
        "import numpy as np\n",
        "\n",
        "retail_df = pd.read_csv(\n",
        "    \"/content/retail_2016_2017.csv\", skiprows=range(1, 11000), nrows=1000\n",
        ")\n",
        "\n",
        "family_array = np.array(retail_df[\"family\"])\n",
        "sales_array = np.array(retail_df[\"sales\"])"
      ]
    },
    {
      "cell_type": "code",
      "execution_count": 90,
      "id": "a0424a65",
      "metadata": {
        "colab": {
          "base_uri": "https://localhost:8080/"
        },
        "id": "a0424a65",
        "outputId": "963c7fb1-ecaa-4bbe-9df5-d4bd1499a42e"
      },
      "outputs": [
        {
          "output_type": "stream",
          "name": "stdout",
          "text": [
            "family array : ['EGGS' 'FROZEN FOODS' 'GROCERY I' 'GROCERY II' 'HARDWARE'\n",
            " 'HOME AND KITCHEN I' 'HOME AND KITCHEN II' 'HOME APPLIANCES' 'HOME CARE'\n",
            " 'LADIESWEAR' 'LAWN AND GARDEN' 'LINGERIE' 'LIQUOR,WINE,BEER' 'MAGAZINES'\n",
            " 'MEATS' 'PERSONAL CARE' 'PET SUPPLIES' 'PLAYERS AND ELECTRONICS'\n",
            " 'POULTRY' 'PREPARED FOODS' 'PRODUCE' 'SCHOOL AND OFFICE SUPPLIES'\n",
            " 'SEAFOOD' 'AUTOMOTIVE' 'BABY CARE' 'BEAUTY' 'BEVERAGES' 'BOOKS'\n",
            " 'BREAD/BAKERY' 'CELEBRATION' 'CLEANING' 'DAIRY' 'DELI' 'EGGS'\n",
            " 'FROZEN FOODS' 'GROCERY I' 'GROCERY II' 'HARDWARE' 'HOME AND KITCHEN I'\n",
            " 'HOME AND KITCHEN II' 'HOME APPLIANCES' 'HOME CARE' 'LADIESWEAR'\n",
            " 'LAWN AND GARDEN' 'LINGERIE' 'LIQUOR,WINE,BEER' 'MAGAZINES' 'MEATS'\n",
            " 'PERSONAL CARE' 'PET SUPPLIES' 'PLAYERS AND ELECTRONICS' 'POULTRY'\n",
            " 'PREPARED FOODS' 'PRODUCE' 'SCHOOL AND OFFICE SUPPLIES' 'SEAFOOD'\n",
            " 'AUTOMOTIVE' 'BABY CARE' 'BEAUTY' 'BEVERAGES' 'BOOKS' 'BREAD/BAKERY'\n",
            " 'CELEBRATION' 'CLEANING' 'DAIRY' 'DELI' 'EGGS' 'FROZEN FOODS' 'GROCERY I'\n",
            " 'GROCERY II' 'HARDWARE' 'HOME AND KITCHEN I' 'HOME AND KITCHEN II'\n",
            " 'HOME APPLIANCES' 'HOME CARE' 'LADIESWEAR' 'LAWN AND GARDEN' 'LINGERIE'\n",
            " 'LIQUOR,WINE,BEER' 'MAGAZINES' 'MEATS' 'PERSONAL CARE' 'PET SUPPLIES'\n",
            " 'PLAYERS AND ELECTRONICS' 'POULTRY' 'PREPARED FOODS' 'PRODUCE'\n",
            " 'SCHOOL AND OFFICE SUPPLIES' 'SEAFOOD' 'AUTOMOTIVE' 'BABY CARE' 'BEAUTY'\n",
            " 'BEVERAGES' 'BOOKS' 'BREAD/BAKERY' 'CELEBRATION' 'CLEANING' 'DAIRY'\n",
            " 'DELI' 'EGGS' 'FROZEN FOODS' 'GROCERY I' 'GROCERY II' 'HARDWARE'\n",
            " 'HOME AND KITCHEN I' 'HOME AND KITCHEN II' 'HOME APPLIANCES' 'HOME CARE'\n",
            " 'LADIESWEAR' 'LAWN AND GARDEN' 'LINGERIE' 'LIQUOR,WINE,BEER' 'MAGAZINES'\n",
            " 'MEATS' 'PERSONAL CARE' 'PET SUPPLIES' 'PLAYERS AND ELECTRONICS'\n",
            " 'POULTRY' 'PREPARED FOODS' 'PRODUCE' 'SCHOOL AND OFFICE SUPPLIES'\n",
            " 'SEAFOOD' 'AUTOMOTIVE' 'BABY CARE' 'BEAUTY' 'BEVERAGES' 'BOOKS'\n",
            " 'BREAD/BAKERY' 'CELEBRATION' 'CLEANING' 'DAIRY' 'DELI' 'EGGS'\n",
            " 'FROZEN FOODS' 'GROCERY I' 'GROCERY II' 'HARDWARE' 'HOME AND KITCHEN I'\n",
            " 'HOME AND KITCHEN II' 'HOME APPLIANCES' 'HOME CARE' 'LADIESWEAR'\n",
            " 'LAWN AND GARDEN' 'LINGERIE' 'LIQUOR,WINE,BEER' 'MAGAZINES' 'MEATS'\n",
            " 'PERSONAL CARE' 'PET SUPPLIES' 'PLAYERS AND ELECTRONICS' 'POULTRY'\n",
            " 'PREPARED FOODS' 'PRODUCE' 'SCHOOL AND OFFICE SUPPLIES' 'SEAFOOD'\n",
            " 'AUTOMOTIVE' 'BABY CARE' 'BEAUTY' 'BEVERAGES' 'BOOKS' 'BREAD/BAKERY'\n",
            " 'CELEBRATION' 'CLEANING' 'DAIRY' 'DELI' 'EGGS' 'FROZEN FOODS' 'GROCERY I'\n",
            " 'GROCERY II' 'HARDWARE' 'HOME AND KITCHEN I' 'HOME AND KITCHEN II'\n",
            " 'HOME APPLIANCES' 'HOME CARE' 'LADIESWEAR' 'LAWN AND GARDEN' 'LINGERIE'\n",
            " 'LIQUOR,WINE,BEER' 'MAGAZINES' 'MEATS' 'PERSONAL CARE' 'PET SUPPLIES'\n",
            " 'PLAYERS AND ELECTRONICS' 'POULTRY' 'PREPARED FOODS' 'PRODUCE'\n",
            " 'SCHOOL AND OFFICE SUPPLIES' 'SEAFOOD' 'AUTOMOTIVE' 'BABY CARE' 'BEAUTY'\n",
            " 'BEVERAGES' 'BOOKS' 'BREAD/BAKERY' 'CELEBRATION' 'CLEANING' 'DAIRY'\n",
            " 'DELI' 'EGGS' 'FROZEN FOODS' 'GROCERY I' 'GROCERY II' 'HARDWARE'\n",
            " 'HOME AND KITCHEN I' 'HOME AND KITCHEN II' 'HOME APPLIANCES' 'HOME CARE'\n",
            " 'LADIESWEAR' 'LAWN AND GARDEN' 'LINGERIE' 'LIQUOR,WINE,BEER' 'MAGAZINES'\n",
            " 'MEATS' 'PERSONAL CARE' 'PET SUPPLIES' 'PLAYERS AND ELECTRONICS'\n",
            " 'POULTRY' 'PREPARED FOODS' 'PRODUCE' 'SCHOOL AND OFFICE SUPPLIES'\n",
            " 'SEAFOOD' 'AUTOMOTIVE' 'BABY CARE' 'BEAUTY' 'BEVERAGES' 'BOOKS'\n",
            " 'BREAD/BAKERY' 'CELEBRATION' 'CLEANING' 'DAIRY' 'DELI' 'EGGS'\n",
            " 'FROZEN FOODS' 'GROCERY I' 'GROCERY II' 'HARDWARE' 'HOME AND KITCHEN I'\n",
            " 'HOME AND KITCHEN II' 'HOME APPLIANCES' 'HOME CARE' 'LADIESWEAR'\n",
            " 'LAWN AND GARDEN' 'LINGERIE' 'LIQUOR,WINE,BEER' 'MAGAZINES' 'MEATS'\n",
            " 'PERSONAL CARE' 'PET SUPPLIES' 'PLAYERS AND ELECTRONICS' 'POULTRY'\n",
            " 'PREPARED FOODS' 'PRODUCE' 'SCHOOL AND OFFICE SUPPLIES' 'SEAFOOD'\n",
            " 'AUTOMOTIVE' 'BABY CARE' 'BEAUTY' 'BEVERAGES' 'BOOKS' 'BREAD/BAKERY'\n",
            " 'CELEBRATION' 'CLEANING' 'DAIRY' 'DELI' 'EGGS' 'FROZEN FOODS' 'GROCERY I'\n",
            " 'GROCERY II' 'HARDWARE' 'HOME AND KITCHEN I' 'HOME AND KITCHEN II'\n",
            " 'HOME APPLIANCES' 'HOME CARE' 'LADIESWEAR' 'LAWN AND GARDEN' 'LINGERIE'\n",
            " 'LIQUOR,WINE,BEER' 'MAGAZINES' 'MEATS' 'PERSONAL CARE' 'PET SUPPLIES'\n",
            " 'PLAYERS AND ELECTRONICS' 'POULTRY' 'PREPARED FOODS' 'PRODUCE'\n",
            " 'SCHOOL AND OFFICE SUPPLIES' 'SEAFOOD' 'AUTOMOTIVE' 'BABY CARE' 'BEAUTY'\n",
            " 'BEVERAGES' 'BOOKS' 'BREAD/BAKERY' 'CELEBRATION' 'CLEANING' 'DAIRY'\n",
            " 'DELI' 'EGGS' 'FROZEN FOODS' 'GROCERY I' 'GROCERY II' 'HARDWARE'\n",
            " 'HOME AND KITCHEN I' 'HOME AND KITCHEN II' 'HOME APPLIANCES' 'HOME CARE'\n",
            " 'LADIESWEAR' 'LAWN AND GARDEN' 'LINGERIE' 'LIQUOR,WINE,BEER' 'MAGAZINES'\n",
            " 'MEATS' 'PERSONAL CARE' 'PET SUPPLIES' 'PLAYERS AND ELECTRONICS'\n",
            " 'POULTRY' 'PREPARED FOODS' 'PRODUCE' 'SCHOOL AND OFFICE SUPPLIES'\n",
            " 'SEAFOOD' 'AUTOMOTIVE' 'BABY CARE' 'BEAUTY' 'BEVERAGES' 'BOOKS'\n",
            " 'BREAD/BAKERY' 'CELEBRATION' 'CLEANING' 'DAIRY' 'DELI' 'EGGS'\n",
            " 'FROZEN FOODS' 'GROCERY I' 'GROCERY II' 'HARDWARE' 'HOME AND KITCHEN I'\n",
            " 'HOME AND KITCHEN II' 'HOME APPLIANCES' 'HOME CARE' 'LADIESWEAR'\n",
            " 'LAWN AND GARDEN' 'LINGERIE' 'LIQUOR,WINE,BEER' 'MAGAZINES' 'MEATS'\n",
            " 'PERSONAL CARE' 'PET SUPPLIES' 'PLAYERS AND ELECTRONICS' 'POULTRY'\n",
            " 'PREPARED FOODS' 'PRODUCE' 'SCHOOL AND OFFICE SUPPLIES' 'SEAFOOD'\n",
            " 'AUTOMOTIVE' 'BABY CARE' 'BEAUTY' 'BEVERAGES' 'BOOKS' 'BREAD/BAKERY'\n",
            " 'CELEBRATION' 'CLEANING' 'DAIRY' 'DELI' 'EGGS' 'FROZEN FOODS' 'GROCERY I'\n",
            " 'GROCERY II' 'HARDWARE' 'HOME AND KITCHEN I' 'HOME AND KITCHEN II'\n",
            " 'HOME APPLIANCES' 'HOME CARE' 'LADIESWEAR' 'LAWN AND GARDEN' 'LINGERIE'\n",
            " 'LIQUOR,WINE,BEER' 'MAGAZINES' 'MEATS' 'PERSONAL CARE' 'PET SUPPLIES'\n",
            " 'PLAYERS AND ELECTRONICS' 'POULTRY' 'PREPARED FOODS' 'PRODUCE'\n",
            " 'SCHOOL AND OFFICE SUPPLIES' 'SEAFOOD' 'AUTOMOTIVE' 'BABY CARE' 'BEAUTY'\n",
            " 'BEVERAGES' 'BOOKS' 'BREAD/BAKERY' 'CELEBRATION' 'CLEANING' 'DAIRY'\n",
            " 'DELI' 'EGGS' 'FROZEN FOODS' 'GROCERY I' 'GROCERY II' 'HARDWARE'\n",
            " 'HOME AND KITCHEN I' 'HOME AND KITCHEN II' 'HOME APPLIANCES' 'HOME CARE'\n",
            " 'LADIESWEAR' 'LAWN AND GARDEN' 'LINGERIE' 'LIQUOR,WINE,BEER' 'MAGAZINES'\n",
            " 'MEATS' 'PERSONAL CARE' 'PET SUPPLIES' 'PLAYERS AND ELECTRONICS'\n",
            " 'POULTRY' 'PREPARED FOODS' 'PRODUCE' 'SCHOOL AND OFFICE SUPPLIES'\n",
            " 'SEAFOOD' 'AUTOMOTIVE' 'BABY CARE' 'BEAUTY' 'BEVERAGES' 'BOOKS'\n",
            " 'BREAD/BAKERY' 'CELEBRATION' 'CLEANING' 'DAIRY' 'DELI' 'EGGS'\n",
            " 'FROZEN FOODS' 'GROCERY I' 'GROCERY II' 'HARDWARE' 'HOME AND KITCHEN I'\n",
            " 'HOME AND KITCHEN II' 'HOME APPLIANCES' 'HOME CARE' 'LADIESWEAR'\n",
            " 'LAWN AND GARDEN' 'LINGERIE' 'LIQUOR,WINE,BEER' 'MAGAZINES' 'MEATS'\n",
            " 'PERSONAL CARE' 'PET SUPPLIES' 'PLAYERS AND ELECTRONICS' 'POULTRY'\n",
            " 'PREPARED FOODS' 'PRODUCE' 'SCHOOL AND OFFICE SUPPLIES' 'SEAFOOD'\n",
            " 'AUTOMOTIVE' 'BABY CARE' 'BEAUTY' 'BEVERAGES' 'BOOKS' 'BREAD/BAKERY'\n",
            " 'CELEBRATION' 'CLEANING' 'DAIRY' 'DELI' 'EGGS' 'FROZEN FOODS' 'GROCERY I'\n",
            " 'GROCERY II' 'HARDWARE' 'HOME AND KITCHEN I' 'HOME AND KITCHEN II'\n",
            " 'HOME APPLIANCES' 'HOME CARE' 'LADIESWEAR' 'LAWN AND GARDEN' 'LINGERIE'\n",
            " 'LIQUOR,WINE,BEER' 'MAGAZINES' 'MEATS' 'PERSONAL CARE' 'PET SUPPLIES'\n",
            " 'PLAYERS AND ELECTRONICS' 'POULTRY' 'PREPARED FOODS' 'PRODUCE'\n",
            " 'SCHOOL AND OFFICE SUPPLIES' 'SEAFOOD' 'AUTOMOTIVE' 'BABY CARE' 'BEAUTY'\n",
            " 'BEVERAGES' 'BOOKS' 'BREAD/BAKERY' 'CELEBRATION' 'CLEANING' 'DAIRY'\n",
            " 'DELI' 'EGGS' 'FROZEN FOODS' 'GROCERY I' 'GROCERY II' 'HARDWARE'\n",
            " 'HOME AND KITCHEN I' 'HOME AND KITCHEN II' 'HOME APPLIANCES' 'HOME CARE'\n",
            " 'LADIESWEAR' 'LAWN AND GARDEN' 'LINGERIE' 'LIQUOR,WINE,BEER' 'MAGAZINES'\n",
            " 'MEATS' 'PERSONAL CARE' 'PET SUPPLIES' 'PLAYERS AND ELECTRONICS'\n",
            " 'POULTRY' 'PREPARED FOODS' 'PRODUCE' 'SCHOOL AND OFFICE SUPPLIES'\n",
            " 'SEAFOOD' 'AUTOMOTIVE' 'BABY CARE' 'BEAUTY' 'BEVERAGES' 'BOOKS'\n",
            " 'BREAD/BAKERY' 'CELEBRATION' 'CLEANING' 'DAIRY' 'DELI' 'EGGS'\n",
            " 'FROZEN FOODS' 'GROCERY I' 'GROCERY II' 'HARDWARE' 'HOME AND KITCHEN I'\n",
            " 'HOME AND KITCHEN II' 'HOME APPLIANCES' 'HOME CARE' 'LADIESWEAR'\n",
            " 'LAWN AND GARDEN' 'LINGERIE' 'LIQUOR,WINE,BEER' 'MAGAZINES' 'MEATS'\n",
            " 'PERSONAL CARE' 'PET SUPPLIES' 'PLAYERS AND ELECTRONICS' 'POULTRY'\n",
            " 'PREPARED FOODS' 'PRODUCE' 'SCHOOL AND OFFICE SUPPLIES' 'SEAFOOD'\n",
            " 'AUTOMOTIVE' 'BABY CARE' 'BEAUTY' 'BEVERAGES' 'BOOKS' 'BREAD/BAKERY'\n",
            " 'CELEBRATION' 'CLEANING' 'DAIRY' 'DELI' 'EGGS' 'FROZEN FOODS' 'GROCERY I'\n",
            " 'GROCERY II' 'HARDWARE' 'HOME AND KITCHEN I' 'HOME AND KITCHEN II'\n",
            " 'HOME APPLIANCES' 'HOME CARE' 'LADIESWEAR' 'LAWN AND GARDEN' 'LINGERIE'\n",
            " 'LIQUOR,WINE,BEER' 'MAGAZINES' 'MEATS' 'PERSONAL CARE' 'PET SUPPLIES'\n",
            " 'PLAYERS AND ELECTRONICS' 'POULTRY' 'PREPARED FOODS' 'PRODUCE'\n",
            " 'SCHOOL AND OFFICE SUPPLIES' 'SEAFOOD' 'AUTOMOTIVE' 'BABY CARE' 'BEAUTY'\n",
            " 'BEVERAGES' 'BOOKS' 'BREAD/BAKERY' 'CELEBRATION' 'CLEANING' 'DAIRY'\n",
            " 'DELI' 'EGGS' 'FROZEN FOODS' 'GROCERY I' 'GROCERY II' 'HARDWARE'\n",
            " 'HOME AND KITCHEN I' 'HOME AND KITCHEN II' 'HOME APPLIANCES' 'HOME CARE'\n",
            " 'LADIESWEAR' 'LAWN AND GARDEN' 'LINGERIE' 'LIQUOR,WINE,BEER' 'MAGAZINES'\n",
            " 'MEATS' 'PERSONAL CARE' 'PET SUPPLIES' 'PLAYERS AND ELECTRONICS'\n",
            " 'POULTRY' 'PREPARED FOODS' 'PRODUCE' 'SCHOOL AND OFFICE SUPPLIES'\n",
            " 'SEAFOOD' 'AUTOMOTIVE' 'BABY CARE' 'BEAUTY' 'BEVERAGES' 'BOOKS'\n",
            " 'BREAD/BAKERY' 'CELEBRATION' 'CLEANING' 'DAIRY' 'DELI' 'EGGS'\n",
            " 'FROZEN FOODS' 'GROCERY I' 'GROCERY II' 'HARDWARE' 'HOME AND KITCHEN I'\n",
            " 'HOME AND KITCHEN II' 'HOME APPLIANCES' 'HOME CARE' 'LADIESWEAR'\n",
            " 'LAWN AND GARDEN' 'LINGERIE' 'LIQUOR,WINE,BEER' 'MAGAZINES' 'MEATS'\n",
            " 'PERSONAL CARE' 'PET SUPPLIES' 'PLAYERS AND ELECTRONICS' 'POULTRY'\n",
            " 'PREPARED FOODS' 'PRODUCE' 'SCHOOL AND OFFICE SUPPLIES' 'SEAFOOD'\n",
            " 'AUTOMOTIVE' 'BABY CARE' 'BEAUTY' 'BEVERAGES' 'BOOKS' 'BREAD/BAKERY'\n",
            " 'CELEBRATION' 'CLEANING' 'DAIRY' 'DELI' 'EGGS' 'FROZEN FOODS' 'GROCERY I'\n",
            " 'GROCERY II' 'HARDWARE' 'HOME AND KITCHEN I' 'HOME AND KITCHEN II'\n",
            " 'HOME APPLIANCES' 'HOME CARE' 'LADIESWEAR' 'LAWN AND GARDEN' 'LINGERIE'\n",
            " 'LIQUOR,WINE,BEER' 'MAGAZINES' 'MEATS' 'PERSONAL CARE' 'PET SUPPLIES'\n",
            " 'PLAYERS AND ELECTRONICS' 'POULTRY' 'PREPARED FOODS' 'PRODUCE'\n",
            " 'SCHOOL AND OFFICE SUPPLIES' 'SEAFOOD' 'AUTOMOTIVE' 'BABY CARE' 'BEAUTY'\n",
            " 'BEVERAGES' 'BOOKS' 'BREAD/BAKERY' 'CELEBRATION' 'CLEANING' 'DAIRY'\n",
            " 'DELI' 'EGGS' 'FROZEN FOODS' 'GROCERY I' 'GROCERY II' 'HARDWARE'\n",
            " 'HOME AND KITCHEN I' 'HOME AND KITCHEN II' 'HOME APPLIANCES' 'HOME CARE'\n",
            " 'LADIESWEAR' 'LAWN AND GARDEN' 'LINGERIE' 'LIQUOR,WINE,BEER' 'MAGAZINES'\n",
            " 'MEATS' 'PERSONAL CARE' 'PET SUPPLIES' 'PLAYERS AND ELECTRONICS'\n",
            " 'POULTRY' 'PREPARED FOODS' 'PRODUCE' 'SCHOOL AND OFFICE SUPPLIES'\n",
            " 'SEAFOOD' 'AUTOMOTIVE' 'BABY CARE' 'BEAUTY' 'BEVERAGES' 'BOOKS'\n",
            " 'BREAD/BAKERY' 'CELEBRATION' 'CLEANING' 'DAIRY' 'DELI' 'EGGS'\n",
            " 'FROZEN FOODS' 'GROCERY I' 'GROCERY II' 'HARDWARE' 'HOME AND KITCHEN I'\n",
            " 'HOME AND KITCHEN II' 'HOME APPLIANCES' 'HOME CARE' 'LADIESWEAR'\n",
            " 'LAWN AND GARDEN' 'LINGERIE' 'LIQUOR,WINE,BEER' 'MAGAZINES' 'MEATS'\n",
            " 'PERSONAL CARE' 'PET SUPPLIES' 'PLAYERS AND ELECTRONICS' 'POULTRY'\n",
            " 'PREPARED FOODS' 'PRODUCE' 'SCHOOL AND OFFICE SUPPLIES' 'SEAFOOD'\n",
            " 'AUTOMOTIVE' 'BABY CARE' 'BEAUTY' 'BEVERAGES' 'BOOKS' 'BREAD/BAKERY'\n",
            " 'CELEBRATION' 'CLEANING' 'DAIRY' 'DELI' 'EGGS' 'FROZEN FOODS' 'GROCERY I'\n",
            " 'GROCERY II' 'HARDWARE' 'HOME AND KITCHEN I' 'HOME AND KITCHEN II'\n",
            " 'HOME APPLIANCES' 'HOME CARE' 'LADIESWEAR' 'LAWN AND GARDEN' 'LINGERIE'\n",
            " 'LIQUOR,WINE,BEER' 'MAGAZINES' 'MEATS' 'PERSONAL CARE' 'PET SUPPLIES'\n",
            " 'PLAYERS AND ELECTRONICS' 'POULTRY' 'PREPARED FOODS' 'PRODUCE'\n",
            " 'SCHOOL AND OFFICE SUPPLIES' 'SEAFOOD' 'AUTOMOTIVE' 'BABY CARE' 'BEAUTY'\n",
            " 'BEVERAGES' 'BOOKS' 'BREAD/BAKERY' 'CELEBRATION' 'CLEANING' 'DAIRY'\n",
            " 'DELI' 'EGGS' 'FROZEN FOODS' 'GROCERY I' 'GROCERY II' 'HARDWARE'\n",
            " 'HOME AND KITCHEN I' 'HOME AND KITCHEN II' 'HOME APPLIANCES' 'HOME CARE'\n",
            " 'LADIESWEAR' 'LAWN AND GARDEN' 'LINGERIE' 'LIQUOR,WINE,BEER' 'MAGAZINES'\n",
            " 'MEATS' 'PERSONAL CARE' 'PET SUPPLIES' 'PLAYERS AND ELECTRONICS'\n",
            " 'POULTRY' 'PREPARED FOODS' 'PRODUCE' 'SCHOOL AND OFFICE SUPPLIES'\n",
            " 'SEAFOOD' 'AUTOMOTIVE' 'BABY CARE' 'BEAUTY' 'BEVERAGES' 'BOOKS'\n",
            " 'BREAD/BAKERY' 'CELEBRATION' 'CLEANING' 'DAIRY' 'DELI' 'EGGS'\n",
            " 'FROZEN FOODS' 'GROCERY I' 'GROCERY II' 'HARDWARE' 'HOME AND KITCHEN I'\n",
            " 'HOME AND KITCHEN II' 'HOME APPLIANCES' 'HOME CARE' 'LADIESWEAR'\n",
            " 'LAWN AND GARDEN' 'LINGERIE' 'LIQUOR,WINE,BEER' 'MAGAZINES' 'MEATS'\n",
            " 'PERSONAL CARE' 'PET SUPPLIES' 'PLAYERS AND ELECTRONICS' 'POULTRY'\n",
            " 'PREPARED FOODS' 'PRODUCE' 'SCHOOL AND OFFICE SUPPLIES' 'SEAFOOD'\n",
            " 'AUTOMOTIVE' 'BABY CARE' 'BEAUTY' 'BEVERAGES' 'BOOKS' 'BREAD/BAKERY'\n",
            " 'CELEBRATION' 'CLEANING' 'DAIRY' 'DELI' 'EGGS' 'FROZEN FOODS' 'GROCERY I'\n",
            " 'GROCERY II' 'HARDWARE' 'HOME AND KITCHEN I' 'HOME AND KITCHEN II'\n",
            " 'HOME APPLIANCES' 'HOME CARE' 'LADIESWEAR' 'LAWN AND GARDEN' 'LINGERIE'\n",
            " 'LIQUOR,WINE,BEER' 'MAGAZINES' 'MEATS' 'PERSONAL CARE' 'PET SUPPLIES'\n",
            " 'PLAYERS AND ELECTRONICS' 'POULTRY' 'PREPARED FOODS' 'PRODUCE'\n",
            " 'SCHOOL AND OFFICE SUPPLIES' 'SEAFOOD' 'AUTOMOTIVE' 'BABY CARE' 'BEAUTY'\n",
            " 'BEVERAGES' 'BOOKS' 'BREAD/BAKERY' 'CELEBRATION' 'CLEANING' 'DAIRY'\n",
            " 'DELI' 'EGGS' 'FROZEN FOODS' 'GROCERY I' 'GROCERY II' 'HARDWARE'\n",
            " 'HOME AND KITCHEN I' 'HOME AND KITCHEN II' 'HOME APPLIANCES' 'HOME CARE'\n",
            " 'LADIESWEAR' 'LAWN AND GARDEN' 'LINGERIE' 'LIQUOR,WINE,BEER' 'MAGAZINES'\n",
            " 'MEATS' 'PERSONAL CARE' 'PET SUPPLIES' 'PLAYERS AND ELECTRONICS'\n",
            " 'POULTRY' 'PREPARED FOODS' 'PRODUCE' 'SCHOOL AND OFFICE SUPPLIES'\n",
            " 'SEAFOOD' 'AUTOMOTIVE' 'BABY CARE' 'BEAUTY' 'BEVERAGES' 'BOOKS'\n",
            " 'BREAD/BAKERY' 'CELEBRATION' 'CLEANING' 'DAIRY' 'DELI' 'EGGS'\n",
            " 'FROZEN FOODS' 'GROCERY I' 'GROCERY II' 'HARDWARE' 'HOME AND KITCHEN I'\n",
            " 'HOME AND KITCHEN II' 'HOME APPLIANCES' 'HOME CARE' 'LADIESWEAR'\n",
            " 'LAWN AND GARDEN' 'LINGERIE' 'LIQUOR,WINE,BEER' 'MAGAZINES' 'MEATS'\n",
            " 'PERSONAL CARE' 'PET SUPPLIES' 'PLAYERS AND ELECTRONICS' 'POULTRY'\n",
            " 'PREPARED FOODS' 'PRODUCE' 'SCHOOL AND OFFICE SUPPLIES' 'SEAFOOD'\n",
            " 'AUTOMOTIVE' 'BABY CARE' 'BEAUTY' 'BEVERAGES' 'BOOKS' 'BREAD/BAKERY'\n",
            " 'CELEBRATION' 'CLEANING' 'DAIRY' 'DELI' 'EGGS' 'FROZEN FOODS' 'GROCERY I'\n",
            " 'GROCERY II' 'HARDWARE' 'HOME AND KITCHEN I' 'HOME AND KITCHEN II'\n",
            " 'HOME APPLIANCES' 'HOME CARE' 'LADIESWEAR' 'LAWN AND GARDEN' 'LINGERIE'\n",
            " 'LIQUOR,WINE,BEER' 'MAGAZINES' 'MEATS' 'PERSONAL CARE' 'PET SUPPLIES'\n",
            " 'PLAYERS AND ELECTRONICS' 'POULTRY' 'PREPARED FOODS' 'PRODUCE'\n",
            " 'SCHOOL AND OFFICE SUPPLIES' 'SEAFOOD' 'AUTOMOTIVE' 'BABY CARE' 'BEAUTY'\n",
            " 'BEVERAGES' 'BOOKS' 'BREAD/BAKERY' 'CELEBRATION' 'CLEANING' 'DAIRY'\n",
            " 'DELI' 'EGGS' 'FROZEN FOODS' 'GROCERY I' 'GROCERY II' 'HARDWARE'\n",
            " 'HOME AND KITCHEN I' 'HOME AND KITCHEN II' 'HOME APPLIANCES' 'HOME CARE'\n",
            " 'LADIESWEAR']\n",
            "sales array : [1.77000000e+02 3.60000000e+01 2.29106000e+03 1.60000000e+01\n",
            " 2.00000000e+00 1.20000000e+01 7.00000000e+00 0.00000000e+00\n",
            " 1.94000000e+02 3.00000000e+00 2.00000000e+00 6.00000000e+00\n",
            " 4.60000000e+01 1.00000000e+00 2.18416000e+02 1.84000000e+02\n",
            " 4.00000000e+00 1.00000000e+00 2.63230000e+02 5.10000000e+01\n",
            " 1.66239400e+03 0.00000000e+00 6.53600030e+00 1.00000000e+01\n",
            " 0.00000000e+00 2.00000000e+00 3.03300000e+03 0.00000000e+00\n",
            " 1.61000000e+02 1.20000000e+01 7.18000000e+02 2.67000000e+02\n",
            " 2.80000000e+02 2.70000000e+01 4.70000000e+01 2.45300000e+03\n",
            " 2.00000000e+00 1.00000000e+00 2.20000000e+01 8.00000000e+00\n",
            " 0.00000000e+00 1.39000000e+02 1.00000000e+00 0.00000000e+00\n",
            " 2.00000000e+00 4.60000000e+01 1.00000000e+00 1.68847000e+02\n",
            " 1.90000000e+02 0.00000000e+00 0.00000000e+00 2.18873000e+02\n",
            " 4.60000000e+01 4.47064000e+02 0.00000000e+00 4.00000000e+00\n",
            " 9.00000000e+00 0.00000000e+00 4.00000000e+00 2.62300000e+03\n",
            " 0.00000000e+00 4.99000000e+02 6.00000000e+00 9.01000000e+02\n",
            " 7.88000000e+02 1.83632000e+02 1.45000000e+02 1.34381000e+02\n",
            " 3.40800000e+03 3.10000000e+01 4.00000000e+00 1.50000000e+01\n",
            " 3.90000000e+01 1.00000000e+00 2.34000000e+02 2.60000000e+01\n",
            " 4.00000000e+00 7.00000000e+00 4.90000000e+01 1.00000000e+00\n",
            " 3.54564000e+02 2.36000000e+02 9.00000000e+00 3.00000000e+00\n",
            " 4.12055000e+02 1.42694000e+02 2.42394400e+03 0.00000000e+00\n",
            " 2.76400000e+01 7.00000000e+00 3.00000000e+00 1.00000000e+00\n",
            " 2.42900000e+03 0.00000000e+00 3.21000000e+02 6.00000000e+00\n",
            " 1.18000000e+03 5.79000000e+02 4.72523000e+02 5.80000000e+01\n",
            " 5.20000000e+01 4.07953400e+03 1.40000000e+01 0.00000000e+00\n",
            " 1.20000000e+01 1.10000000e+01 0.00000000e+00 2.80000000e+02\n",
            " 2.00000000e+00 2.00000000e+00 1.00000000e+00 2.90000000e+01\n",
            " 1.00000000e+00 4.71233000e+02 3.30000000e+02 2.00000000e+00\n",
            " 6.00000000e+00 2.91393980e+02 9.75730000e+01 9.62866000e+02\n",
            " 0.00000000e+00 7.00000000e+00 1.10000000e+01 1.00000000e+00\n",
            " 2.00000000e+00 3.44900000e+03 0.00000000e+00 3.70000000e+02\n",
            " 6.00000000e+00 1.00700000e+03 3.80000000e+02 2.20475000e+02\n",
            " 1.09000000e+02 6.74010000e+01 3.16148900e+03 3.00000000e+00\n",
            " 0.00000000e+00 2.90000000e+01 3.10000000e+01 0.00000000e+00\n",
            " 2.77000000e+02 2.00000000e+00 0.00000000e+00 3.00000000e+00\n",
            " 2.10000000e+01 1.00000000e+00 1.08595000e+02 3.29000000e+02\n",
            " 2.00000000e+00 1.10000000e+01 1.53788000e+02 9.40730000e+01\n",
            " 1.23640400e+03 0.00000000e+00 0.00000000e+00 2.00000000e+00\n",
            " 0.00000000e+00 1.00000000e+00 1.09500000e+03 0.00000000e+00\n",
            " 9.80000000e+01 8.00000000e+00 5.37000000e+02 2.12000000e+02\n",
            " 1.03000000e+02 5.30000000e+01 2.60000000e+01 1.58800000e+03\n",
            " 3.00000000e+00 0.00000000e+00 1.50000000e+01 1.20000000e+01\n",
            " 0.00000000e+00 1.22000000e+02 0.00000000e+00 0.00000000e+00\n",
            " 6.00000000e+00 1.10000000e+01 0.00000000e+00 1.11437004e+02\n",
            " 1.48000000e+02 1.00000000e+00 1.00000000e+00 3.30179980e+01\n",
            " 3.10000000e+01 2.98441000e+02 1.00000000e+00 2.00000000e+00\n",
            " 2.00000000e+00 0.00000000e+00 0.00000000e+00 1.36400000e+03\n",
            " 0.00000000e+00 2.03313000e+02 1.00000000e+01 5.39000000e+02\n",
            " 4.53000000e+02 1.38179000e+02 5.20000000e+01 7.00340000e+01\n",
            " 2.07600000e+03 1.20000000e+01 0.00000000e+00 6.00000000e+00\n",
            " 1.30000000e+01 0.00000000e+00 1.36000000e+02 3.00000000e+00\n",
            " 0.00000000e+00 2.00000000e+00 3.20000000e+01 0.00000000e+00\n",
            " 8.00111000e+02 1.63000000e+02 1.00000000e+00 0.00000000e+00\n",
            " 3.12476000e+02 3.49690000e+01 1.07744000e+03 0.00000000e+00\n",
            " 1.02770000e+01 3.00000000e+00 0.00000000e+00 6.00000000e+00\n",
            " 3.20000000e+03 0.00000000e+00 6.14430000e+02 3.20000000e+01\n",
            " 9.74000000e+02 1.01600000e+03 1.98649000e+02 1.58000000e+02\n",
            " 1.78429000e+02 3.52800000e+03 2.30000000e+01 1.00000000e+00\n",
            " 1.80000000e+01 2.70000000e+01 0.00000000e+00 2.70000000e+02\n",
            " 1.70000000e+01 1.00000000e+01 8.00000000e+00 9.20000000e+01\n",
            " 1.10000000e+01 2.35896000e+02 2.74000000e+02 8.00000000e+00\n",
            " 1.30000000e+01 3.89541000e+02 1.05658005e+02 3.40453100e+03\n",
            " 0.00000000e+00 2.87380000e+01 1.00000000e+00 0.00000000e+00\n",
            " 3.00000000e+00 1.55100000e+03 0.00000000e+00 1.96480000e+02\n",
            " 3.00000000e+00 3.75000000e+02 4.08000000e+02 7.31420000e+01\n",
            " 8.50000000e+01 8.62180000e+01 1.40100000e+03 5.00000000e+00\n",
            " 0.00000000e+00 1.70000000e+01 7.00000000e+00 0.00000000e+00\n",
            " 8.40000000e+01 0.00000000e+00 3.00000000e+00 6.00000000e+00\n",
            " 9.90000000e+01 2.00000000e+00 1.23234000e+02 9.10000000e+01\n",
            " 7.00000000e+00 3.00000000e+00 1.05806000e+02 4.00780000e+01\n",
            " 9.62960000e+02 0.00000000e+00 4.00000000e+00 1.00000000e+00\n",
            " 0.00000000e+00 2.00000000e+00 6.18000000e+02 0.00000000e+00\n",
            " 1.31456000e+02 5.00000000e+00 2.78000000e+02 1.20000000e+02\n",
            " 4.29330000e+01 1.60000000e+01 5.33540000e+01 9.63000000e+02\n",
            " 0.00000000e+00 0.00000000e+00 1.50000000e+01 0.00000000e+00\n",
            " 0.00000000e+00 5.60000000e+01 2.00000000e+00 0.00000000e+00\n",
            " 3.00000000e+00 1.00000000e+01 0.00000000e+00 1.77339000e+02\n",
            " 1.13000000e+02 1.00000000e+00 1.00000000e+00 1.08260000e+02\n",
            " 1.80000000e+01 2.79505000e+02 0.00000000e+00 2.00000000e+00\n",
            " 6.00000000e+00 0.00000000e+00 4.00000000e+00 2.09800000e+03\n",
            " 0.00000000e+00 4.55119000e+02 9.00000000e+00 7.04000000e+02\n",
            " 6.94000000e+02 1.80483000e+02 1.62000000e+02 1.20056000e+02\n",
            " 2.53800000e+03 1.40000000e+01 4.00000000e+00 1.40000000e+01\n",
            " 1.80000000e+01 0.00000000e+00 1.45000000e+02 1.00000000e+00\n",
            " 8.00000000e+00 0.00000000e+00 7.50000000e+01 3.00000000e+00\n",
            " 2.52745000e+02 4.91000000e+02 8.00000000e+00 5.00000000e+00\n",
            " 2.95347000e+02 8.20730000e+01 1.85278600e+03 2.00000000e+00\n",
            " 2.35290000e+01 4.00000000e+00 0.00000000e+00 1.00000000e+00\n",
            " 2.65900000e+03 0.00000000e+00 4.31000000e+02 1.20000000e+01\n",
            " 8.34000000e+02 4.62000000e+02 3.06972000e+02 1.53000000e+02\n",
            " 8.98670040e+01 2.88765400e+03 3.00000000e+00 0.00000000e+00\n",
            " 2.30000000e+01 1.70000000e+01 0.00000000e+00 1.88000000e+02\n",
            " 0.00000000e+00 0.00000000e+00 2.00000000e+00 2.60000000e+01\n",
            " 2.00000000e+00 2.75741000e+02 4.55000000e+02 3.00000000e+00\n",
            " 0.00000000e+00 2.09894000e+02 6.47860000e+01 1.08931900e+03\n",
            " 0.00000000e+00 9.00000000e+00 6.00000000e+00 0.00000000e+00\n",
            " 1.00000000e+00 1.68000000e+03 0.00000000e+00 4.26000000e+02\n",
            " 5.00000000e+00 7.68000000e+02 3.98000000e+02 2.10642000e+02\n",
            " 1.42000000e+02 5.20000000e+01 2.40585700e+03 7.00000000e+00\n",
            " 3.00000000e+00 1.60000000e+01 1.70000000e+01 1.00000000e+00\n",
            " 1.67000000e+02 0.00000000e+00 0.00000000e+00 6.00000000e+00\n",
            " 7.50000000e+01 1.00000000e+00 1.62416000e+02 2.60000000e+02\n",
            " 3.00000000e+00 2.00000000e+00 1.37833000e+02 4.57270000e+01\n",
            " 7.26516000e+02 1.00000000e+00 5.00000000e+00 1.60000000e+01\n",
            " 0.00000000e+00 8.00000000e+00 6.56700000e+03 0.00000000e+00\n",
            " 1.11332600e+03 4.40000000e+01 1.91400000e+03 1.91700000e+03\n",
            " 2.83622000e+02 3.76000000e+02 3.63709000e+02 6.48700000e+03\n",
            " 5.80000000e+01 4.00000000e+00 4.30000000e+01 6.60000000e+01\n",
            " 2.00000000e+00 4.38000000e+02 3.80000000e+01 5.00000000e+00\n",
            " 1.40000000e+01 2.09000000e+02 2.00000000e+00 6.44307000e+02\n",
            " 5.30000000e+02 2.40000000e+01 1.60000000e+01 1.02905200e+03\n",
            " 2.92207000e+02 7.86003100e+03 2.00000000e+00 8.19630000e+01\n",
            " 2.00000000e+00 0.00000000e+00 1.00000000e+00 1.29800000e+03\n",
            " 0.00000000e+00 1.59000000e+02 2.00000000e+00 5.36000000e+02\n",
            " 2.37000000e+02 8.90000000e+01 1.00000000e+02 6.25540000e+01\n",
            " 1.54100000e+03 4.00000000e+00 0.00000000e+00 1.30000000e+01\n",
            " 3.00000000e+00 0.00000000e+00 1.17000000e+02 2.00000000e+00\n",
            " 0.00000000e+00 0.00000000e+00 2.80000000e+01 1.00000000e+00\n",
            " 1.34618000e+02 1.03000000e+02 3.00000000e+00 3.00000000e+00\n",
            " 1.26062000e+02 3.40000000e+01 4.46038000e+02 0.00000000e+00\n",
            " 1.00000000e+00 9.00000000e+00 2.00000000e+00 3.00000000e+00\n",
            " 2.27000000e+03 0.00000000e+00 4.21000000e+02 4.00000000e+00\n",
            " 1.18600000e+03 5.67000000e+02 2.81808000e+02 2.44000000e+02\n",
            " 1.04925000e+02 3.89079700e+03 1.30000000e+01 1.00000000e+00\n",
            " 1.00000000e+01 1.50000000e+01 1.00000000e+00 2.33000000e+02\n",
            " 1.00000000e+00 0.00000000e+00 4.00000000e+00 1.40000000e+01\n",
            " 0.00000000e+00 5.35779000e+02 3.45000000e+02 2.00000000e+00\n",
            " 9.00000000e+00 1.64079000e+02 9.90000000e+01 1.15538500e+03\n",
            " 0.00000000e+00 8.00000000e+00 5.00000000e+00 0.00000000e+00\n",
            " 0.00000000e+00 6.13000000e+02 0.00000000e+00 6.40000000e+01\n",
            " 0.00000000e+00 3.18000000e+02 1.00000000e+02 9.40000000e+01\n",
            " 8.00000000e+01 2.10000000e+01 1.02700000e+03 1.00000000e+00\n",
            " 1.00000000e+00 3.00000000e+00 3.00000000e+00 0.00000000e+00\n",
            " 9.10000000e+01 0.00000000e+00 0.00000000e+00 2.00000000e+00\n",
            " 3.00000000e+01 0.00000000e+00 7.12690000e+01 8.70000000e+01\n",
            " 0.00000000e+00 0.00000000e+00 5.98080020e+01 3.00000000e+00\n",
            " 1.20202000e+02 0.00000000e+00 3.00000000e+00 1.00000000e+00\n",
            " 0.00000000e+00 1.00000000e+00 1.73100000e+03 0.00000000e+00\n",
            " 1.93000000e+02 4.00000000e+00 1.13500000e+03 3.53000000e+02\n",
            " 1.87000000e+02 1.76000000e+02 3.22800000e+01 2.94746500e+03\n",
            " 3.00000000e+00 2.00000000e+00 1.00000000e+02 1.70000000e+01\n",
            " 0.00000000e+00 2.10000000e+02 0.00000000e+00 0.00000000e+00\n",
            " 3.00000000e+00 3.20000000e+01 1.00000000e+00 2.62509000e+02\n",
            " 2.79000000e+02 3.00000000e+00 3.00000000e+00 2.14322000e+02\n",
            " 2.30000000e+01 8.62092000e+02 0.00000000e+00 3.00000000e+00\n",
            " 3.00000000e+00 2.00000000e+00 1.00000000e+00 2.24000000e+03\n",
            " 0.00000000e+00 5.11000000e+02 1.70000000e+01 8.85000000e+02\n",
            " 4.90000000e+02 2.29672000e+02 1.28000000e+02 1.48670000e+02\n",
            " 3.19163100e+03 7.00000000e+00 2.00000000e+00 2.90000000e+01\n",
            " 1.80000000e+01 0.00000000e+00 2.19000000e+02 4.00000000e+00\n",
            " 0.00000000e+00 3.00000000e+00 3.70000000e+01 1.00000000e+00\n",
            " 1.29390000e+02 3.30000000e+02 1.00000000e+00 6.00000000e+00\n",
            " 1.08375000e+02 9.00000000e+00 4.73952000e+02 6.00000000e+00\n",
            " 2.00000000e+00 3.00000000e+00 0.00000000e+00 1.00000000e+00\n",
            " 1.86600000e+03 0.00000000e+00 5.90000000e+01 3.00000000e+00\n",
            " 3.83000000e+02 1.29000000e+02 9.70000000e+01 5.60000000e+01\n",
            " 4.34040000e+01 1.29300000e+03 5.00000000e+00 0.00000000e+00\n",
            " 9.00000000e+00 1.10000000e+01 0.00000000e+00 6.70000000e+01\n",
            " 0.00000000e+00 0.00000000e+00 0.00000000e+00 1.80000000e+01\n",
            " 1.00000000e+00 2.28813000e+02 7.70000000e+01 1.00000000e+00\n",
            " 0.00000000e+00 4.59500000e+01 9.00000000e+00 2.54263000e+02\n",
            " 1.00000000e+00 0.00000000e+00 3.00000000e+00 0.00000000e+00\n",
            " 4.00000000e+00 2.64300000e+03 0.00000000e+00 4.69000000e+02\n",
            " 6.00000000e+00 8.92000000e+02 4.92000000e+02 2.00786000e+02\n",
            " 8.30000000e+01 5.40000000e+01 3.92681200e+03 7.00000000e+00\n",
            " 0.00000000e+00 5.80000000e+01 0.00000000e+00 1.00000000e+00\n",
            " 2.09000000e+02 0.00000000e+00 7.00000000e+00 2.00000000e+00\n",
            " 8.70000000e+01 0.00000000e+00 4.26952000e+02 3.31000000e+02\n",
            " 2.00000000e+00 6.00000000e+00 1.38552000e+02 5.70690000e+01\n",
            " 1.27275500e+03 1.00000000e+00 0.00000000e+00 2.00000000e+00\n",
            " 0.00000000e+00 2.00000000e+00 2.48100000e+03 0.00000000e+00\n",
            " 4.42077000e+02 1.10000000e+01 9.74000000e+02 8.08000000e+02\n",
            " 1.15189000e+02 1.01000000e+02 1.51977000e+02 3.34900000e+03\n",
            " 2.90000000e+01 4.00000000e+00 2.10000000e+01 2.60000000e+01\n",
            " 1.00000000e+00 2.34000000e+02 1.50000000e+01 0.00000000e+00\n",
            " 1.00000000e+00 7.00000000e+01 5.00000000e+00 1.95077000e+02\n",
            " 2.94000000e+02 9.00000000e+00 3.00000000e+00 2.56829000e+02\n",
            " 1.03247000e+02 2.77577100e+03 0.00000000e+00 2.96700000e+01\n",
            " 4.00000000e+00 0.00000000e+00 0.00000000e+00 1.86700000e+03\n",
            " 0.00000000e+00 4.77963000e+02 1.00000000e+01 9.05000000e+02\n",
            " 7.08000000e+02 1.01627000e+02 6.00000000e+01 1.50641000e+02\n",
            " 3.07800000e+03 1.90000000e+01 2.00000000e+00 1.50000000e+01\n",
            " 9.00000000e+00 0.00000000e+00 2.45000000e+02 2.20000000e+01\n",
            " 1.10000000e+01 1.00000000e+00 6.50000000e+01 4.00000000e+00\n",
            " 3.56909000e+02 3.48000000e+02 3.00000000e+00 2.00000000e+00\n",
            " 1.28621000e+02 8.87720000e+01 2.03076200e+03 0.00000000e+00\n",
            " 1.82040000e+01 7.00000000e+00 1.00000000e+00 3.00000000e+00\n",
            " 2.95100000e+03 0.00000000e+00 6.55000000e+02 2.00000000e+01\n",
            " 1.19400000e+03 5.11000000e+02 1.57656000e+02 2.66000000e+02\n",
            " 9.76390000e+01 3.67415000e+03 1.80000000e+01 1.00000000e+00\n",
            " 2.20000000e+01 1.40000000e+01 0.00000000e+00 2.97000000e+02\n",
            " 9.00000000e+00 0.00000000e+00 2.00000000e+00 8.30000000e+01\n",
            " 1.00000000e+00 2.18750990e+02 2.58000000e+02 2.00000000e+00\n",
            " 2.00000000e+00 2.05541000e+02 7.03850000e+01 1.65743200e+03\n",
            " 1.00000000e+00 1.06119995e+01 9.00000000e+00 0.00000000e+00\n",
            " 2.00000000e+00 2.19100000e+03 0.00000000e+00 4.25449000e+02\n",
            " 7.00000000e+00 9.39000000e+02 7.16000000e+02 1.93776000e+02\n",
            " 1.33000000e+02 1.43356000e+02 2.97700000e+03 1.50000000e+01\n",
            " 0.00000000e+00 1.60000000e+01 1.80000000e+01 1.00000000e+00\n",
            " 2.18000000e+02 3.20000000e+01 4.00000000e+00 1.00000000e+00\n",
            " 5.10000000e+01 1.00000000e+00 3.15396000e+02 2.36000000e+02\n",
            " 1.00000000e+00 7.00000000e+00 3.88726000e+02 9.98280000e+01\n",
            " 2.33990600e+03 0.00000000e+00 2.54170000e+01 5.00000000e+00\n",
            " 0.00000000e+00 0.00000000e+00 2.56100000e+03 0.00000000e+00\n",
            " 3.02000000e+02 4.00000000e+00 1.32500000e+03 3.88000000e+02\n",
            " 1.81000000e+02 8.90000000e+01 9.09330000e+01 4.04500000e+03\n",
            " 1.20000000e+01 1.00000000e+00 2.00000000e+01 9.00000000e+00\n",
            " 0.00000000e+00 2.90000000e+02 0.00000000e+00 1.00000000e+00\n",
            " 0.00000000e+00 1.20000000e+01 1.00000000e+00 5.98030000e+01\n",
            " 3.12000000e+02 5.00000000e+00 6.00000000e+00 1.04162000e+02\n",
            " 5.30000000e+01 7.22333000e+02 0.00000000e+00 3.00000000e+00\n",
            " 5.00000000e+00 0.00000000e+00 1.00000000e+00 1.43600000e+03\n",
            " 0.00000000e+00 3.46863000e+02 1.00000000e+01 6.59000000e+02\n",
            " 5.22000000e+02 1.43368000e+02 8.00000000e+01 1.51325000e+02\n",
            " 2.22900000e+03 9.00000000e+00 2.00000000e+00 6.00000000e+00\n",
            " 2.10000000e+01 0.00000000e+00 1.32000000e+02 6.00000000e+00\n",
            " 5.00000000e+00 3.00000000e+00 8.90000000e+01 4.00000000e+00\n",
            " 1.57430010e+02 2.39000000e+02 8.00000000e+00 1.00000000e+00\n",
            " 1.20466000e+02 5.60190000e+01 1.56784300e+03 0.00000000e+00\n",
            " 5.00000000e+00 4.00000000e+00 0.00000000e+00 6.00000000e+00\n",
            " 1.85700000e+03 0.00000000e+00 4.63002000e+02 2.00000000e+00\n",
            " 6.41000000e+02 7.05000000e+02 1.04933000e+02 8.60000000e+01\n",
            " 1.11979004e+02 2.24300000e+03 2.20000000e+01 0.00000000e+00\n",
            " 9.00000000e+00 2.10000000e+01 1.00000000e+00 1.58000000e+02\n",
            " 9.00000000e+00 2.10000000e+01 1.00000000e+00 5.80000000e+01\n",
            " 1.00000000e+00 1.59795000e+02 2.20000000e+02 3.00000000e+00\n",
            " 1.00000000e+00 1.78191000e+02 9.07780000e+01 2.45845600e+03\n",
            " 1.00000000e+00 5.47200000e+00 5.00000000e+00 0.00000000e+00\n",
            " 2.00000000e+00 3.43600000e+03 0.00000000e+00 2.95000000e+02\n",
            " 8.00000000e+00 1.16400000e+03 2.71000000e+02 2.51000000e+02\n",
            " 1.36000000e+02 4.90000000e+01 3.34800000e+03 2.00000000e+00\n",
            " 1.00000000e+00 1.60000000e+01 1.30000000e+01 0.00000000e+00\n",
            " 2.29000000e+02 0.00000000e+00 0.00000000e+00 2.00000000e+00\n",
            " 2.20000000e+01 1.00000000e+00 1.69771000e+02 2.69000000e+02\n",
            " 0.00000000e+00 5.00000000e+00 2.10722000e+02 8.00000000e+01\n",
            " 6.73885000e+02 0.00000000e+00 0.00000000e+00 1.50000000e+01\n",
            " 0.00000000e+00 8.00000000e+00 7.00500000e+03 0.00000000e+00\n",
            " 1.01651300e+03 3.60000000e+01 2.17200000e+03 2.37100000e+03\n",
            " 3.52400000e+02 4.31000000e+02 5.25295000e+02 7.59400000e+03\n",
            " 4.70000000e+01 5.00000000e+00 1.42000000e+02 7.00000000e+01\n",
            " 3.00000000e+00 4.59000000e+02 1.90000000e+01 3.00000000e+00\n",
            " 2.80000000e+01 2.26000000e+02 7.00000000e+00 7.59851000e+02\n",
            " 4.58000000e+02 3.20000000e+01 4.00000000e+01 1.10719900e+03\n",
            " 4.56322000e+02 8.83415000e+03 1.30000000e+01 9.59860000e+01\n",
            " 6.00000000e+00 0.00000000e+00 1.20000000e+01 6.77100000e+03\n",
            " 0.00000000e+00 8.37780000e+02 3.30000000e+01 2.27100000e+03\n",
            " 1.80000000e+03 4.45720000e+02 2.28000000e+02 4.05855000e+02\n",
            " 7.69400000e+03 3.40000000e+01 1.00000000e+00 8.30000000e+01\n",
            " 9.70000000e+01 1.00000000e+00 5.10000000e+02 4.00000000e+00]\n"
          ]
        }
      ],
      "source": [
        "print(f\"family array : {family_array}\")\n",
        "\n",
        "print(f\"sales array : {sales_array}\")"
      ]
    },
    {
      "cell_type": "code",
      "execution_count": 97,
      "id": "96eaf423",
      "metadata": {
        "colab": {
          "base_uri": "https://localhost:8080/"
        },
        "id": "96eaf423",
        "outputId": "3f3bd4d4-a759-404f-df46-1015cba846ee"
      },
      "outputs": [
        {
          "output_type": "stream",
          "name": "stdout",
          "text": [
            "[1662.394  447.064 2423.944  962.866 1236.404  298.441 1077.44  3404.531\n",
            "  962.96   279.505 1852.786 1089.319  726.516 7860.031  446.038 1155.385\n",
            "  120.202  862.092  473.952  254.263 1272.755 2775.771 2030.762 1657.432\n",
            " 2339.906  722.333 1567.843 2458.456  673.885 8834.15 ]\n",
            "\n",
            "\n",
            "The size of array is : 30\n"
          ]
        }
      ],
      "source": [
        "produce_array = sales_array[family_array == 'PRODUCE']\n",
        "\n",
        "print(produce_array)\n",
        "print('\\n')\n",
        "print(f\"The size of array is : {produce_array.size}\")"
      ]
    },
    {
      "cell_type": "code",
      "execution_count": 98,
      "id": "432041d4",
      "metadata": {
        "colab": {
          "base_uri": "https://localhost:8080/"
        },
        "id": "432041d4",
        "outputId": "4338bfe4-0a61-44c2-bf9f-d37b497155c8"
      },
      "outputs": [
        {
          "output_type": "stream",
          "name": "stdout",
          "text": [
            "[1662.394  447.064  962.866 1077.44  3404.531  962.96  1089.319 7860.031\n",
            "  446.038 1272.755 2775.771 2339.906  722.333 1567.843 2458.456  673.885\n",
            " 8834.15 ]\n",
            "\n",
            "\n",
            "The size of produce sample array is : 17\n"
          ]
        }
      ],
      "source": [
        "rng = np.random.default_rng(2022)\n",
        "\n",
        "random_array = rng.random(30)\n",
        "\n",
        "produce_sample = produce_array[random_array < 0.5]\n",
        "\n",
        "print(produce_sample)\n",
        "print('\\n')\n",
        "print(f\"The size of produce sample array is : {produce_sample.size}\")"
      ]
    },
    {
      "cell_type": "code",
      "execution_count": 99,
      "id": "e0186438",
      "metadata": {
        "colab": {
          "base_uri": "https://localhost:8080/"
        },
        "id": "e0186438",
        "outputId": "51c64da9-17cc-448a-d64e-19379fd82575"
      },
      "outputs": [
        {
          "output_type": "stream",
          "name": "stdout",
          "text": [
            "Mean of the sample array is : 2268.102470588235\n"
          ]
        }
      ],
      "source": [
        "mean = produce_sample.mean()\n",
        "\n",
        "print(f\"Mean of the sample array is : {mean}\")"
      ]
    },
    {
      "cell_type": "code",
      "execution_count": 100,
      "id": "33c9a16a",
      "metadata": {
        "colab": {
          "base_uri": "https://localhost:8080/"
        },
        "id": "33c9a16a",
        "outputId": "69427863-de2d-40ed-9680-fa85c8be5e4e"
      },
      "outputs": [
        {
          "output_type": "stream",
          "name": "stdout",
          "text": [
            "The median of sample array is : 1272.755\n"
          ]
        }
      ],
      "source": [
        "median = np.median(produce_sample)\n",
        "\n",
        "print(f\"The median of sample array is : {median}\")"
      ]
    },
    {
      "cell_type": "code",
      "execution_count": 111,
      "id": "2aebf230",
      "metadata": {
        "colab": {
          "base_uri": "https://localhost:8080/"
        },
        "id": "2aebf230",
        "outputId": "95755bbf-1ee9-4663-cf94-46fa4c8573f8"
      },
      "outputs": [
        {
          "output_type": "stream",
          "name": "stdout",
          "text": [
            "produce_sample array is : [1662.394  447.064  962.866 1077.44  3404.531  962.96  1089.319 7860.031\n",
            "  446.038 1272.755 2775.771 2339.906  722.333 1567.843 2458.456  673.885\n",
            " 8834.15 ]\n",
            "\n",
            "\n",
            "The median is : 1272.755\n",
            "\n",
            "\n",
            "The mean is : 2268.102470588235\n",
            "\n",
            "\n",
            "new_produce array is : ['above-median below-mean' 'below-both' 'below-both' 'below-both'\n",
            " 'above-both' 'below-both' 'below-both' 'above-both' 'below-both'\n",
            " 'below-both' 'above-both' 'above-both' 'below-both'\n",
            " 'above-median below-mean' 'above-both' 'below-both' 'above-both']\n"
          ]
        }
      ],
      "source": [
        "new_produce = np.where(produce_sample > median, np.where(produce_sample > mean, 'above-both', 'above-median below-mean'), np.where(produce_sample > mean, 'below-median above-mean', 'below-both'))\n",
        "\n",
        "print(f\"produce_sample array is : {produce_sample}\")\n",
        "print('\\n')\n",
        "print(f\"The median is : {median}\")\n",
        "print('\\n')\n",
        "print(f\"The mean is : {mean}\")\n",
        "print('\\n')\n",
        "print(f\"new_produce array is : {new_produce}\")"
      ]
    }
  ],
  "metadata": {
    "kernelspec": {
      "display_name": "Python 3 (ipykernel)",
      "language": "python",
      "name": "python3"
    },
    "language_info": {
      "codemirror_mode": {
        "name": "ipython",
        "version": 3
      },
      "file_extension": ".py",
      "mimetype": "text/x-python",
      "name": "python",
      "nbconvert_exporter": "python",
      "pygments_lexer": "ipython3",
      "version": "3.9.7"
    },
    "colab": {
      "provenance": [],
      "include_colab_link": true
    }
  },
  "nbformat": 4,
  "nbformat_minor": 5
}